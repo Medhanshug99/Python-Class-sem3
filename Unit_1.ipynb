{
  "nbformat": 4,
  "nbformat_minor": 0,
  "metadata": {
    "colab": {
      "provenance": [],
      "gpuType": "T4",
      "authorship_tag": "ABX9TyN+8TAif0vglaKmAt1jaRUU",
      "include_colab_link": true
    },
    "kernelspec": {
      "name": "python3",
      "display_name": "Python 3"
    },
    "language_info": {
      "name": "python"
    },
    "accelerator": "GPU"
  },
  "cells": [
    {
      "cell_type": "markdown",
      "metadata": {
        "id": "view-in-github",
        "colab_type": "text"
      },
      "source": [
        "<a href=\"https://colab.research.google.com/github/Medhanshug99/Python-Lab-s3/blob/main/Unit_1.ipynb\" target=\"_parent\"><img src=\"https://colab.research.google.com/assets/colab-badge.svg\" alt=\"Open In Colab\"/></a>"
      ]
    },
    {
      "cell_type": "code",
      "execution_count": null,
      "metadata": {
        "id": "gdk8_UsG5k6R"
      },
      "outputs": [],
      "source": []
    },
    {
      "cell_type": "markdown",
      "source": [
        "#Declaration of variable"
      ],
      "metadata": {
        "id": "yyAS8s28XHLa"
      }
    },
    {
      "cell_type": "code",
      "execution_count": null,
      "metadata": {
        "id": "0wEqwIUpUlY7",
        "colab": {
          "base_uri": "https://localhost:8080/"
        },
        "outputId": "c9505bfd-dd21-400f-dca7-5472ef136260"
      },
      "outputs": [
        {
          "output_type": "stream",
          "name": "stdout",
          "text": [
            "The value of a is 10\n",
            "The value of a is 10\n"
          ]
        }
      ],
      "source": [
        "a = 10\n",
        "print(\"The value of a is\",a)\n",
        "print(f\"The value of a is {a}\")"
      ]
    },
    {
      "cell_type": "markdown",
      "source": [
        "1 Multiple assignment in a variable"
      ],
      "metadata": {
        "id": "8oVH_Vp1X8Nd"
      }
    },
    {
      "cell_type": "code",
      "source": [
        "a,b = 10,20\n",
        "print(a,b)"
      ],
      "metadata": {
        "colab": {
          "base_uri": "https://localhost:8080/"
        },
        "id": "gvJSyEXgYDU3",
        "outputId": "69d96150-6dba-4b51-ecd4-7cabc4b07625"
      },
      "execution_count": null,
      "outputs": [
        {
          "output_type": "stream",
          "name": "stdout",
          "text": [
            "10 20\n"
          ]
        }
      ]
    },
    {
      "cell_type": "markdown",
      "source": [
        "2 Multiple assignment with same value"
      ],
      "metadata": {
        "id": "c7wJAZkVYY3v"
      }
    },
    {
      "cell_type": "code",
      "source": [
        "a = b = c = 100\n",
        "print(a,b,c)"
      ],
      "metadata": {
        "colab": {
          "base_uri": "https://localhost:8080/"
        },
        "id": "ZxjgPOXSYd8K",
        "outputId": "ab1ea190-15bf-4cf5-980c-84d4af62116a"
      },
      "execution_count": null,
      "outputs": [
        {
          "output_type": "stream",
          "name": "stdout",
          "text": [
            "100 100 100\n"
          ]
        }
      ]
    },
    {
      "cell_type": "markdown",
      "source": [
        "3 Rules for naming variables\n",
        " 1. Variable names can only contain letters,digit and underscore\n",
        " 2. A variable name cannot start with a digit\n",
        " 3. Varaible names are case sensitive(Ex : myVar and myvar are different)\n",
        " 4. avoid using python keywords such as if ,else ,for , class\n",
        " 5."
      ],
      "metadata": {
        "id": "irI1P_T-Ytiq"
      }
    },
    {
      "cell_type": "code",
      "source": [
        "a = 10\n",
        "class_io = 10\n",
        "user_name=\"medhansh\"\n",
        "_name=\"Error\"\n",
        "print(a,user_name,_name,class_io)"
      ],
      "metadata": {
        "colab": {
          "base_uri": "https://localhost:8080/"
        },
        "id": "-EaJksA6ZhTC",
        "outputId": "f1e3184d-166d-4f77-dfea-70446d1223dc"
      },
      "execution_count": null,
      "outputs": [
        {
          "output_type": "stream",
          "name": "stdout",
          "text": [
            "10 medhansh Error 10\n"
          ]
        }
      ]
    },
    {
      "cell_type": "markdown",
      "source": [
        "Typecasting of variables\n",
        "\n"
      ],
      "metadata": {
        "id": "Z_HeuCiQmDJU"
      }
    },
    {
      "cell_type": "markdown",
      "source": [
        "1. Hulk strength level is recorded as a string output 1000 . convert it into an integer and increase it by 200"
      ],
      "metadata": {
        "id": "pbudfeiCmfez"
      }
    },
    {
      "cell_type": "code",
      "source": [
        "hulk_score =\"1000\"\n",
        "hulk_ScoreNew = int(hulk_score)+200\n",
        "print(hulk_ScoreNew)"
      ],
      "metadata": {
        "id": "T0MznQ3uYv_w",
        "colab": {
          "base_uri": "https://localhost:8080/"
        },
        "outputId": "b1c919ae-2137-4c71-f1a4-931964718156"
      },
      "execution_count": null,
      "outputs": [
        {
          "output_type": "stream",
          "name": "stdout",
          "text": [
            "1200\n"
          ]
        }
      ]
    },
    {
      "cell_type": "markdown",
      "source": [
        "2. Thor's hammer mass is 5000(int) , but you need to calculate the gravitational force , which requires it as a float"
      ],
      "metadata": {
        "id": "hQ0iUsQPnc4h"
      }
    },
    {
      "cell_type": "code",
      "source": [
        "thor_hammer = 5000\n",
        "g = 9.8\n",
        "thor_force = float(thor_hammer*g)\n",
        "print(thor_force)"
      ],
      "metadata": {
        "colab": {
          "base_uri": "https://localhost:8080/"
        },
        "id": "8vIiuexvn0eP",
        "outputId": "702e3c46-d235-4695-87d6-2d3e2ecd8a4d"
      },
      "execution_count": null,
      "outputs": [
        {
          "output_type": "stream",
          "name": "stdout",
          "text": [
            "49000.0\n"
          ]
        }
      ]
    },
    {
      "cell_type": "markdown",
      "source": [
        "3. Loki gets input in seconds (as string ):\"3600\". convert it into an integer and then to hours. Show the final result as float"
      ],
      "metadata": {
        "id": "iUvBz_nGoNrN"
      }
    },
    {
      "cell_type": "code",
      "source": [
        "t=\"3600\"\n",
        "t_int=int(t)\n",
        "t_hours=float(t_int/3600)\n",
        "print(t_hours)"
      ],
      "metadata": {
        "colab": {
          "base_uri": "https://localhost:8080/"
        },
        "id": "GSBojjF8oc8h",
        "outputId": "74fb8e26-79a3-4349-b205-22d6b0367c30"
      },
      "execution_count": null,
      "outputs": [
        {
          "output_type": "stream",
          "name": "stdout",
          "text": [
            "1.0\n"
          ]
        }
      ]
    },
    {
      "cell_type": "markdown",
      "source": [
        "4. Ironman recorded 7 hits out of 10 shots(both integers). Convert them into float and calculate the accuracy percentage"
      ],
      "metadata": {
        "id": "Qdvil222oxNm"
      }
    },
    {
      "cell_type": "code",
      "source": [
        "h=7\n",
        "s=10\n",
        "h_f=float(h)\n",
        "s_f=float(s)\n",
        "accuracy_=(h_f/s_f)*100\n",
        "print(accuracy_)"
      ],
      "metadata": {
        "colab": {
          "base_uri": "https://localhost:8080/"
        },
        "id": "82oLzuNmo98R",
        "outputId": "15ad880c-5c14-4bf0-81c4-6608e2ca3c7a"
      },
      "execution_count": null,
      "outputs": [
        {
          "output_type": "stream",
          "name": "stdout",
          "text": [
            "70.0\n"
          ]
        }
      ]
    }
  ]
}