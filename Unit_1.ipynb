{
  "nbformat": 4,
  "nbformat_minor": 0,
  "metadata": {
    "colab": {
      "provenance": [],
      "authorship_tag": "ABX9TyM2MqXqj7p8m+m0sfx8b/e1",
      "include_colab_link": true
    },
    "kernelspec": {
      "name": "python3",
      "display_name": "Python 3"
    },
    "language_info": {
      "name": "python"
    }
  },
  "cells": [
    {
      "cell_type": "markdown",
      "metadata": {
        "id": "view-in-github",
        "colab_type": "text"
      },
      "source": [
        "<a href=\"https://colab.research.google.com/github/Medhanshug99/Python-Lab-s3/blob/main/Unit_1.ipynb\" target=\"_parent\"><img src=\"https://colab.research.google.com/assets/colab-badge.svg\" alt=\"Open In Colab\"/></a>"
      ]
    },
    {
      "cell_type": "code",
      "execution_count": null,
      "metadata": {
        "id": "gdk8_UsG5k6R"
      },
      "outputs": [],
      "source": []
    },
    {
      "cell_type": "markdown",
      "source": [
        "#Declaration of variable"
      ],
      "metadata": {
        "id": "yyAS8s28XHLa"
      }
    },
    {
      "cell_type": "code",
      "execution_count": null,
      "metadata": {
        "id": "0wEqwIUpUlY7",
        "colab": {
          "base_uri": "https://localhost:8080/"
        },
        "outputId": "c9505bfd-dd21-400f-dca7-5472ef136260"
      },
      "outputs": [
        {
          "output_type": "stream",
          "name": "stdout",
          "text": [
            "The value of a is 10\n",
            "The value of a is 10\n"
          ]
        }
      ],
      "source": [
        "a = 10\n",
        "print(\"The value of a is\",a)\n",
        "print(f\"The value of a is {a}\")"
      ]
    },
    {
      "cell_type": "markdown",
      "source": [
        "1 Multiple assignment in a variable"
      ],
      "metadata": {
        "id": "8oVH_Vp1X8Nd"
      }
    },
    {
      "cell_type": "code",
      "source": [
        "a,b = 10,20\n",
        "print(a,b)"
      ],
      "metadata": {
        "colab": {
          "base_uri": "https://localhost:8080/"
        },
        "id": "gvJSyEXgYDU3",
        "outputId": "69d96150-6dba-4b51-ecd4-7cabc4b07625"
      },
      "execution_count": null,
      "outputs": [
        {
          "output_type": "stream",
          "name": "stdout",
          "text": [
            "10 20\n"
          ]
        }
      ]
    },
    {
      "cell_type": "markdown",
      "source": [
        "2 Multiple assignment with same value"
      ],
      "metadata": {
        "id": "c7wJAZkVYY3v"
      }
    },
    {
      "cell_type": "code",
      "source": [
        "a = b = c = 100\n",
        "print(a,b,c)"
      ],
      "metadata": {
        "colab": {
          "base_uri": "https://localhost:8080/"
        },
        "id": "ZxjgPOXSYd8K",
        "outputId": "ab1ea190-15bf-4cf5-980c-84d4af62116a"
      },
      "execution_count": null,
      "outputs": [
        {
          "output_type": "stream",
          "name": "stdout",
          "text": [
            "100 100 100\n"
          ]
        }
      ]
    },
    {
      "cell_type": "markdown",
      "source": [
        "3 Rules for naming variables\n",
        " 1. Variable names can only contain letters,digit and underscore\n",
        " 2. A variable name cannot start with a digit\n",
        " 3. Varaible names are case sensitive(Ex : myVar and myvar are different)\n",
        " 4. avoid using python keywords such as if ,else ,for , class\n",
        " 5."
      ],
      "metadata": {
        "id": "irI1P_T-Ytiq"
      }
    },
    {
      "cell_type": "code",
      "source": [
        "a = 10\n",
        "class_io = 10\n",
        "user_name=\"medhansh\"\n",
        "_name=\"Error\"\n",
        "print(a,user_name,_name,class_io)"
      ],
      "metadata": {
        "colab": {
          "base_uri": "https://localhost:8080/"
        },
        "id": "-EaJksA6ZhTC",
        "outputId": "f1e3184d-166d-4f77-dfea-70446d1223dc"
      },
      "execution_count": null,
      "outputs": [
        {
          "output_type": "stream",
          "name": "stdout",
          "text": [
            "10 medhansh Error 10\n"
          ]
        }
      ]
    },
    {
      "cell_type": "markdown",
      "source": [
        "Typecasting of variables\n",
        "\n"
      ],
      "metadata": {
        "id": "Z_HeuCiQmDJU"
      }
    },
    {
      "cell_type": "markdown",
      "source": [
        "1. Hulk strength level is recorded as a string output 1000 . convert it into an integer and increase it by 200"
      ],
      "metadata": {
        "id": "pbudfeiCmfez"
      }
    },
    {
      "cell_type": "code",
      "source": [
        "hulk_score =\"1000\"\n",
        "hulk_ScoreNew = int(hulk_score)+200\n",
        "print(hulk_ScoreNew)"
      ],
      "metadata": {
        "id": "T0MznQ3uYv_w",
        "colab": {
          "base_uri": "https://localhost:8080/"
        },
        "outputId": "b1c919ae-2137-4c71-f1a4-931964718156"
      },
      "execution_count": null,
      "outputs": [
        {
          "output_type": "stream",
          "name": "stdout",
          "text": [
            "1200\n"
          ]
        }
      ]
    },
    {
      "cell_type": "markdown",
      "source": [
        "2. Thor's hammer mass is 5000(int) , but you need to calculate the gravitational force , which requires it as a float"
      ],
      "metadata": {
        "id": "hQ0iUsQPnc4h"
      }
    },
    {
      "cell_type": "code",
      "source": [
        "thor_hammer = 5000\n",
        "g = 9.8\n",
        "thor_force = float(thor_hammer*g)\n",
        "print(thor_force)"
      ],
      "metadata": {
        "colab": {
          "base_uri": "https://localhost:8080/"
        },
        "id": "8vIiuexvn0eP",
        "outputId": "702e3c46-d235-4695-87d6-2d3e2ecd8a4d"
      },
      "execution_count": null,
      "outputs": [
        {
          "output_type": "stream",
          "name": "stdout",
          "text": [
            "49000.0\n"
          ]
        }
      ]
    },
    {
      "cell_type": "markdown",
      "source": [
        "3. Loki gets input in seconds (as string ):\"3600\". convert it into an integer and then to hours. Show the final result as float"
      ],
      "metadata": {
        "id": "iUvBz_nGoNrN"
      }
    },
    {
      "cell_type": "code",
      "source": [
        "t=\"3600\"\n",
        "t_int=int(t)\n",
        "t_hours=float(t_int/3600)\n",
        "print(t_hours)"
      ],
      "metadata": {
        "colab": {
          "base_uri": "https://localhost:8080/"
        },
        "id": "GSBojjF8oc8h",
        "outputId": "74fb8e26-79a3-4349-b205-22d6b0367c30"
      },
      "execution_count": null,
      "outputs": [
        {
          "output_type": "stream",
          "name": "stdout",
          "text": [
            "1.0\n"
          ]
        }
      ]
    },
    {
      "cell_type": "markdown",
      "source": [
        "4. Ironman recorded 7 hits out of 10 shots(both integers). Convert them into float and calculate the accuracy percentage"
      ],
      "metadata": {
        "id": "Qdvil222oxNm"
      }
    },
    {
      "cell_type": "code",
      "source": [
        "h=7\n",
        "s=10\n",
        "h_f=float(h)\n",
        "s_f=float(s)\n",
        "accuracy_=(h_f/s_f)*100\n",
        "print(accuracy_)"
      ],
      "metadata": {
        "colab": {
          "base_uri": "https://localhost:8080/"
        },
        "id": "82oLzuNmo98R",
        "outputId": "15ad880c-5c14-4bf0-81c4-6608e2ca3c7a"
      },
      "execution_count": null,
      "outputs": [
        {
          "output_type": "stream",
          "name": "stdout",
          "text": [
            "70.0\n"
          ]
        }
      ]
    },
    {
      "cell_type": "markdown",
      "source": [
        "String Datatype\n",
        "\n",
        "1. Array of bytes representing unicode characters\n",
        "2. No seperate character data type ; a character is a string of length one\n",
        "3. String can be created using ' ',\" \", or \"\" \"\"\n",
        "4. Acces individual character using indexing , starting at 0\n",
        "5. Strings are immutable\n",
        "6. str ( )"
      ],
      "metadata": {
        "id": "BBWDX4ZgZf1W"
      }
    },
    {
      "cell_type": "code",
      "source": [
        "s1 = \"This is a string\"\n",
        "print(s1)\n",
        "s2 = \"This \" + \"is \" + \"also \" +\"a \" + \"string\"\n",
        "print(s2)\n",
        "print(len(s1))\n",
        "print(len(s2))\n"
      ],
      "metadata": {
        "colab": {
          "base_uri": "https://localhost:8080/"
        },
        "id": "_-UHeXN-ZmVh",
        "outputId": "2261bb57-bcbe-4ff9-c861-1c081aed7158"
      },
      "execution_count": 9,
      "outputs": [
        {
          "output_type": "stream",
          "name": "stdout",
          "text": [
            "This is a string\n",
            "This is also a string\n",
            "16\n",
            "21\n"
          ]
        }
      ]
    },
    {
      "cell_type": "code",
      "source": [
        "s3 = \"This is a string \\\n",
        "written along multiple lines\"\n",
        "print(s3)\n"
      ],
      "metadata": {
        "colab": {
          "base_uri": "https://localhost:8080/"
        },
        "id": "KDLH4hd0bTtF",
        "outputId": "55d82ccf-059e-4202-d58a-aeb6ff774884"
      },
      "execution_count": 14,
      "outputs": [
        {
          "output_type": "stream",
          "name": "stdout",
          "text": [
            "This is a string written along multiple lines\n"
          ]
        }
      ]
    },
    {
      "cell_type": "code",
      "source": [
        "#multiply string with an integer to get multiple lines\n",
        "Iron_man = \"SMASH IT!\\n\"\n",
        "print(Iron_man*5)"
      ],
      "metadata": {
        "colab": {
          "base_uri": "https://localhost:8080/"
        },
        "id": "5U72H7h3b402",
        "outputId": "2fe68393-b061-437d-e00e-bad752bdd09c"
      },
      "execution_count": 16,
      "outputs": [
        {
          "output_type": "stream",
          "name": "stdout",
          "text": [
            "SMASH IT!\n",
            "SMASH IT!\n",
            "SMASH IT!\n",
            "SMASH IT!\n",
            "SMASH IT!\n",
            "\n"
          ]
        }
      ]
    },
    {
      "cell_type": "code",
      "source": [
        "Iron_man_2 = \"Hello world # This is not a comment\"\n",
        "Iron_man_2"
      ],
      "metadata": {
        "colab": {
          "base_uri": "https://localhost:8080/",
          "height": 36
        },
        "id": "8u1RuUaac7jW",
        "outputId": "ebaf1c77-6e00-4eab-cc8e-9111acaba2e0"
      },
      "execution_count": 17,
      "outputs": [
        {
          "output_type": "execute_result",
          "data": {
            "text/plain": [
              "'Hello world # This is not a comment'"
            ],
            "application/vnd.google.colaboratory.intrinsic+json": {
              "type": "string"
            }
          },
          "metadata": {},
          "execution_count": 17
        }
      ]
    },
    {
      "cell_type": "code",
      "source": [
        "Avenger = \"IRONMAN\"\n",
        "length_=len(Avenger)\n",
        "#length_\n",
        "first_ch=Avenger[0] # both are same -->first_ch=Avenger[-0]\n",
        "print(f\"The first character is :{first_ch} \")\n"
      ],
      "metadata": {
        "colab": {
          "base_uri": "https://localhost:8080/"
        },
        "id": "gQu7BtYhdi1X",
        "outputId": "d2cdd7bf-12ec-44a8-bbc4-b54a9f2b63fa"
      },
      "execution_count": 2,
      "outputs": [
        {
          "output_type": "stream",
          "name": "stdout",
          "text": [
            "The first character is :I \n"
          ]
        }
      ]
    },
    {
      "cell_type": "code",
      "source": [
        "# negative indexing\n",
        "last_ch=Avenger[-1]\n",
        "print(last_ch)"
      ],
      "metadata": {
        "colab": {
          "base_uri": "https://localhost:8080/"
        },
        "id": "x6trXr7GeMPY",
        "outputId": "4ea82817-aed1-413d-d657-ec929265c111"
      },
      "execution_count": 23,
      "outputs": [
        {
          "output_type": "stream",
          "name": "stdout",
          "text": [
            "N\n"
          ]
        }
      ]
    },
    {
      "cell_type": "code",
      "source": [
        "# Slicing\n",
        "slicing = Avenger[1:5]\n",
        "slicing_1 = Avenger[:6]\n",
        "print(slicing)\n",
        "print(slicing_1)"
      ],
      "metadata": {
        "colab": {
          "base_uri": "https://localhost:8080/"
        },
        "id": "f_vd0cjVeV1a",
        "outputId": "28bda8b0-e503-42c3-bad5-3c1ffccf4d9c"
      },
      "execution_count": 3,
      "outputs": [
        {
          "output_type": "stream",
          "name": "stdout",
          "text": [
            "RONM\n",
            "IRONMA\n"
          ]
        }
      ]
    },
    {
      "cell_type": "code",
      "source": [
        "slicing_2 = Avenger[1:]\n",
        "slicing_3 = Avenger[1:4:2]\n",
        "print(slicing_2)\n",
        "print(slicing_3)"
      ],
      "metadata": {
        "colab": {
          "base_uri": "https://localhost:8080/"
        },
        "id": "a2uN3U2xjgCx",
        "outputId": "672402e7-a3d9-4f4a-e975-d1913a9b5c7a"
      },
      "execution_count": 4,
      "outputs": [
        {
          "output_type": "stream",
          "name": "stdout",
          "text": [
            "RONMAN\n",
            "RN\n"
          ]
        }
      ]
    },
    {
      "cell_type": "code",
      "source": [
        "#IRONMAN\n",
        "slicing_4 = Avenger[::]\n",
        "print(slicing_4)"
      ],
      "metadata": {
        "colab": {
          "base_uri": "https://localhost:8080/"
        },
        "id": "2jESWFLwkEW-",
        "outputId": "9c197c2e-80b2-49e4-a200-ecfe5c7cc381"
      },
      "execution_count": 16,
      "outputs": [
        {
          "output_type": "stream",
          "name": "stdout",
          "text": [
            "RONMAN\n"
          ]
        }
      ]
    },
    {
      "cell_type": "code",
      "source": [
        "Avenger[0]=\"B\"\n",
        "print(Avenger)\n",
        "# Because Strings are immutable"
      ],
      "metadata": {
        "colab": {
          "base_uri": "https://localhost:8080/",
          "height": 158
        },
        "id": "q8k4ZUH_lWsm",
        "outputId": "f36e26fd-2000-46ac-8f71-3291dadcb636"
      },
      "execution_count": 17,
      "outputs": [
        {
          "output_type": "error",
          "ename": "TypeError",
          "evalue": "'str' object does not support item assignment",
          "traceback": [
            "\u001b[0;31m---------------------------------------------------------------------------\u001b[0m",
            "\u001b[0;31mTypeError\u001b[0m                                 Traceback (most recent call last)",
            "\u001b[0;32m/tmp/ipython-input-678456321.py\u001b[0m in \u001b[0;36m<cell line: 0>\u001b[0;34m()\u001b[0m\n\u001b[0;32m----> 1\u001b[0;31m \u001b[0mAvenger\u001b[0m\u001b[0;34m[\u001b[0m\u001b[0;36m0\u001b[0m\u001b[0;34m]\u001b[0m\u001b[0;34m=\u001b[0m\u001b[0;34m\"B\"\u001b[0m\u001b[0;34m\u001b[0m\u001b[0;34m\u001b[0m\u001b[0m\n\u001b[0m\u001b[1;32m      2\u001b[0m \u001b[0mprint\u001b[0m\u001b[0;34m(\u001b[0m\u001b[0mAvenger\u001b[0m\u001b[0;34m)\u001b[0m\u001b[0;34m\u001b[0m\u001b[0;34m\u001b[0m\u001b[0m\n",
            "\u001b[0;31mTypeError\u001b[0m: 'str' object does not support item assignment"
          ]
        }
      ]
    },
    {
      "cell_type": "code",
      "source": [
        "for i in range(len(Avenger)) :\n",
        "  print(i, Avenger[i])"
      ],
      "metadata": {
        "colab": {
          "base_uri": "https://localhost:8080/"
        },
        "id": "AjA48KSJmebe",
        "outputId": "33506c25-95f4-412a-8c73-e3d1dae4db40"
      },
      "execution_count": 27,
      "outputs": [
        {
          "output_type": "stream",
          "name": "stdout",
          "text": [
            "0 I\n",
            "1 R\n",
            "2 O\n",
            "3 N\n",
            "4 M\n",
            "5 A\n",
            "6 N\n"
          ]
        }
      ]
    },
    {
      "cell_type": "code",
      "source": [
        "n = len(Avenger)\n",
        "for i in range(n):\n",
        "  print((n-1)-i,Avenger[(n-1)-i])"
      ],
      "metadata": {
        "colab": {
          "base_uri": "https://localhost:8080/"
        },
        "id": "u-gbvpLNmoB-",
        "outputId": "c7f1bdd7-2798-4e18-90cc-3b2e993acc26"
      },
      "execution_count": 32,
      "outputs": [
        {
          "output_type": "stream",
          "name": "stdout",
          "text": [
            "6 N\n",
            "5 A\n",
            "4 M\n",
            "3 N\n",
            "2 O\n",
            "1 R\n",
            "0 I\n"
          ]
        }
      ]
    },
    {
      "cell_type": "markdown",
      "source": [
        "Q1. Palindrome or not"
      ],
      "metadata": {
        "id": "EtFOkbSsnjX6"
      }
    },
    {
      "cell_type": "code",
      "source": [
        "#RACECAR\n",
        "name = input()\n",
        "n=len(name)\n",
        "if name==name[::-1]:\n",
        "    print(f\"{name} is a palindrome \")\n",
        "else :\n",
        "    print(f\"{name} is not a palindrome\")"
      ],
      "metadata": {
        "colab": {
          "base_uri": "https://localhost:8080/"
        },
        "id": "pCk_XKX-nnfQ",
        "outputId": "1bee7ce7-bbc7-45c9-b484-7aa5cc306dbc"
      },
      "execution_count": 37,
      "outputs": [
        {
          "output_type": "stream",
          "name": "stdout",
          "text": [
            "racecar\n",
            "racecar is a palindrome \n"
          ]
        }
      ]
    }
  ]
}