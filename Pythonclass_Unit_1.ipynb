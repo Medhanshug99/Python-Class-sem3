{
  "nbformat": 4,
  "nbformat_minor": 0,
  "metadata": {
    "colab": {
      "provenance": [],
      "authorship_tag": "ABX9TyOLjBlLghadRIxDrY+Ua4y5",
      "include_colab_link": true
    },
    "kernelspec": {
      "name": "python3",
      "display_name": "Python 3"
    },
    "language_info": {
      "name": "python"
    }
  },
  "cells": [
    {
      "cell_type": "markdown",
      "metadata": {
        "id": "view-in-github",
        "colab_type": "text"
      },
      "source": [
        "<a href=\"https://colab.research.google.com/github/Medhanshug99/Python-Class-sem3/blob/main/Pythonclass_Unit_1.ipynb\" target=\"_parent\"><img src=\"https://colab.research.google.com/assets/colab-badge.svg\" alt=\"Open In Colab\"/></a>"
      ]
    },
    {
      "cell_type": "code",
      "execution_count": null,
      "metadata": {
        "id": "gdk8_UsG5k6R"
      },
      "outputs": [],
      "source": []
    },
    {
      "cell_type": "markdown",
      "source": [
        "#Declaration of variable"
      ],
      "metadata": {
        "id": "yyAS8s28XHLa"
      }
    },
    {
      "cell_type": "code",
      "execution_count": null,
      "metadata": {
        "id": "0wEqwIUpUlY7",
        "colab": {
          "base_uri": "https://localhost:8080/"
        },
        "outputId": "c9505bfd-dd21-400f-dca7-5472ef136260"
      },
      "outputs": [
        {
          "output_type": "stream",
          "name": "stdout",
          "text": [
            "The value of a is 10\n",
            "The value of a is 10\n"
          ]
        }
      ],
      "source": [
        "a = 10\n",
        "print(\"The value of a is\",a)\n",
        "print(f\"The value of a is {a}\")"
      ]
    },
    {
      "cell_type": "markdown",
      "source": [
        "1 Multiple assignment in a variable"
      ],
      "metadata": {
        "id": "8oVH_Vp1X8Nd"
      }
    },
    {
      "cell_type": "code",
      "source": [
        "a,b = 10,20\n",
        "print(a,b)"
      ],
      "metadata": {
        "colab": {
          "base_uri": "https://localhost:8080/"
        },
        "id": "gvJSyEXgYDU3",
        "outputId": "69d96150-6dba-4b51-ecd4-7cabc4b07625"
      },
      "execution_count": null,
      "outputs": [
        {
          "output_type": "stream",
          "name": "stdout",
          "text": [
            "10 20\n"
          ]
        }
      ]
    },
    {
      "cell_type": "markdown",
      "source": [
        "2 Multiple assignment with same value"
      ],
      "metadata": {
        "id": "c7wJAZkVYY3v"
      }
    },
    {
      "cell_type": "code",
      "source": [
        "a = b = c = 100\n",
        "print(a,b,c)"
      ],
      "metadata": {
        "colab": {
          "base_uri": "https://localhost:8080/"
        },
        "id": "ZxjgPOXSYd8K",
        "outputId": "ab1ea190-15bf-4cf5-980c-84d4af62116a"
      },
      "execution_count": null,
      "outputs": [
        {
          "output_type": "stream",
          "name": "stdout",
          "text": [
            "100 100 100\n"
          ]
        }
      ]
    },
    {
      "cell_type": "markdown",
      "source": [
        "3 Rules for naming variables\n",
        " 1. Variable names can only contain letters,digit and underscore\n",
        " 2. A variable name cannot start with a digit\n",
        " 3. Varaible names are case sensitive(Ex : myVar and myvar are different)\n",
        " 4. avoid using python keywords such as if ,else ,for , class\n",
        " 5."
      ],
      "metadata": {
        "id": "irI1P_T-Ytiq"
      }
    },
    {
      "cell_type": "code",
      "source": [
        "a = 10\n",
        "class_io = 10\n",
        "user_name=\"medhansh\"\n",
        "_name=\"Error\"\n",
        "print(a,user_name,_name,class_io)"
      ],
      "metadata": {
        "colab": {
          "base_uri": "https://localhost:8080/"
        },
        "id": "-EaJksA6ZhTC",
        "outputId": "f1e3184d-166d-4f77-dfea-70446d1223dc"
      },
      "execution_count": null,
      "outputs": [
        {
          "output_type": "stream",
          "name": "stdout",
          "text": [
            "10 medhansh Error 10\n"
          ]
        }
      ]
    },
    {
      "cell_type": "markdown",
      "source": [
        "Typecasting of variables\n",
        "\n"
      ],
      "metadata": {
        "id": "Z_HeuCiQmDJU"
      }
    },
    {
      "cell_type": "markdown",
      "source": [
        "1. Hulk strength level is recorded as a string output 1000 . convert it into an integer and increase it by 200"
      ],
      "metadata": {
        "id": "pbudfeiCmfez"
      }
    },
    {
      "cell_type": "code",
      "source": [
        "hulk_score =\"1000\"\n",
        "hulk_ScoreNew = int(hulk_score)+200\n",
        "print(hulk_ScoreNew)"
      ],
      "metadata": {
        "id": "T0MznQ3uYv_w",
        "colab": {
          "base_uri": "https://localhost:8080/"
        },
        "outputId": "b1c919ae-2137-4c71-f1a4-931964718156"
      },
      "execution_count": null,
      "outputs": [
        {
          "output_type": "stream",
          "name": "stdout",
          "text": [
            "1200\n"
          ]
        }
      ]
    },
    {
      "cell_type": "markdown",
      "source": [
        "2. Thor's hammer mass is 5000(int) , but you need to calculate the gravitational force , which requires it as a float"
      ],
      "metadata": {
        "id": "hQ0iUsQPnc4h"
      }
    },
    {
      "cell_type": "code",
      "source": [
        "thor_hammer = 5000\n",
        "g = 9.8\n",
        "thor_force = float(thor_hammer*g)\n",
        "print(thor_force)"
      ],
      "metadata": {
        "colab": {
          "base_uri": "https://localhost:8080/"
        },
        "id": "8vIiuexvn0eP",
        "outputId": "702e3c46-d235-4695-87d6-2d3e2ecd8a4d"
      },
      "execution_count": null,
      "outputs": [
        {
          "output_type": "stream",
          "name": "stdout",
          "text": [
            "49000.0\n"
          ]
        }
      ]
    },
    {
      "cell_type": "markdown",
      "source": [
        "3. Loki gets input in seconds (as string ):\"3600\". convert it into an integer and then to hours. Show the final result as float"
      ],
      "metadata": {
        "id": "iUvBz_nGoNrN"
      }
    },
    {
      "cell_type": "code",
      "source": [
        "t=\"3600\"\n",
        "t_int=int(t)\n",
        "t_hours=float(t_int/3600)\n",
        "print(t_hours)"
      ],
      "metadata": {
        "colab": {
          "base_uri": "https://localhost:8080/"
        },
        "id": "GSBojjF8oc8h",
        "outputId": "74fb8e26-79a3-4349-b205-22d6b0367c30"
      },
      "execution_count": null,
      "outputs": [
        {
          "output_type": "stream",
          "name": "stdout",
          "text": [
            "1.0\n"
          ]
        }
      ]
    },
    {
      "cell_type": "markdown",
      "source": [
        "4. Ironman recorded 7 hits out of 10 shots(both integers). Convert them into float and calculate the accuracy percentage"
      ],
      "metadata": {
        "id": "Qdvil222oxNm"
      }
    },
    {
      "cell_type": "code",
      "source": [
        "h=7\n",
        "s=10\n",
        "h_f=float(h)\n",
        "s_f=float(s)\n",
        "accuracy_=(h_f/s_f)*100\n",
        "print(accuracy_)"
      ],
      "metadata": {
        "colab": {
          "base_uri": "https://localhost:8080/"
        },
        "id": "82oLzuNmo98R",
        "outputId": "15ad880c-5c14-4bf0-81c4-6608e2ca3c7a"
      },
      "execution_count": null,
      "outputs": [
        {
          "output_type": "stream",
          "name": "stdout",
          "text": [
            "70.0\n"
          ]
        }
      ]
    },
    {
      "cell_type": "markdown",
      "source": [
        "String Datatype\n",
        "\n",
        "1. Array of bytes representing unicode characters\n",
        "2. No seperate character data type ; a character is a string of length one\n",
        "3. String can be created using ' ',\" \", or \"\" \"\"\n",
        "4. Acces individual character using indexing , starting at 0\n",
        "5. Strings are immutable\n",
        "6. str ( )"
      ],
      "metadata": {
        "id": "BBWDX4ZgZf1W"
      }
    },
    {
      "cell_type": "code",
      "source": [
        "s1 = \"This is a string\"\n",
        "print(s1)\n",
        "s2 = \"This \" + \"is \" + \"also \" +\"a \" + \"string\"\n",
        "print(s2)\n",
        "print(len(s1))\n",
        "print(len(s2))\n"
      ],
      "metadata": {
        "colab": {
          "base_uri": "https://localhost:8080/"
        },
        "id": "_-UHeXN-ZmVh",
        "outputId": "2261bb57-bcbe-4ff9-c861-1c081aed7158"
      },
      "execution_count": null,
      "outputs": [
        {
          "output_type": "stream",
          "name": "stdout",
          "text": [
            "This is a string\n",
            "This is also a string\n",
            "16\n",
            "21\n"
          ]
        }
      ]
    },
    {
      "cell_type": "code",
      "source": [
        "s3 = \"This is a string \\\n",
        "written along multiple lines\"\n",
        "print(s3)\n"
      ],
      "metadata": {
        "colab": {
          "base_uri": "https://localhost:8080/"
        },
        "id": "KDLH4hd0bTtF",
        "outputId": "55d82ccf-059e-4202-d58a-aeb6ff774884"
      },
      "execution_count": null,
      "outputs": [
        {
          "output_type": "stream",
          "name": "stdout",
          "text": [
            "This is a string written along multiple lines\n"
          ]
        }
      ]
    },
    {
      "cell_type": "code",
      "source": [
        "#multiply string with an integer to get multiple lines\n",
        "Iron_man = \"SMASH IT!\\n\"\n",
        "print(Iron_man*5)"
      ],
      "metadata": {
        "colab": {
          "base_uri": "https://localhost:8080/"
        },
        "id": "5U72H7h3b402",
        "outputId": "2fe68393-b061-437d-e00e-bad752bdd09c"
      },
      "execution_count": null,
      "outputs": [
        {
          "output_type": "stream",
          "name": "stdout",
          "text": [
            "SMASH IT!\n",
            "SMASH IT!\n",
            "SMASH IT!\n",
            "SMASH IT!\n",
            "SMASH IT!\n",
            "\n"
          ]
        }
      ]
    },
    {
      "cell_type": "code",
      "source": [
        "Iron_man_2 = \"Hello world # This is not a comment\"\n",
        "Iron_man_2"
      ],
      "metadata": {
        "colab": {
          "base_uri": "https://localhost:8080/",
          "height": 36
        },
        "id": "8u1RuUaac7jW",
        "outputId": "ebaf1c77-6e00-4eab-cc8e-9111acaba2e0"
      },
      "execution_count": null,
      "outputs": [
        {
          "output_type": "execute_result",
          "data": {
            "text/plain": [
              "'Hello world # This is not a comment'"
            ],
            "application/vnd.google.colaboratory.intrinsic+json": {
              "type": "string"
            }
          },
          "metadata": {},
          "execution_count": 17
        }
      ]
    },
    {
      "cell_type": "code",
      "source": [
        "Avenger = \"IRONMAN\"\n",
        "length_=len(Avenger)\n",
        "#length_\n",
        "first_ch=Avenger[0] # both are same -->first_ch=Avenger[-0]\n",
        "print(f\"The first character is :{first_ch} \")\n"
      ],
      "metadata": {
        "colab": {
          "base_uri": "https://localhost:8080/"
        },
        "id": "gQu7BtYhdi1X",
        "outputId": "76150cb1-92d3-4e78-c1aa-25bf1955fba7"
      },
      "execution_count": null,
      "outputs": [
        {
          "output_type": "stream",
          "name": "stdout",
          "text": [
            "The first character is :I \n"
          ]
        }
      ]
    },
    {
      "cell_type": "code",
      "source": [
        "# negative indexing\n",
        "last_ch=Avenger[-1]\n",
        "print(last_ch)"
      ],
      "metadata": {
        "colab": {
          "base_uri": "https://localhost:8080/"
        },
        "id": "x6trXr7GeMPY",
        "outputId": "4ea82817-aed1-413d-d657-ec929265c111"
      },
      "execution_count": null,
      "outputs": [
        {
          "output_type": "stream",
          "name": "stdout",
          "text": [
            "N\n"
          ]
        }
      ]
    },
    {
      "cell_type": "code",
      "source": [
        "# Slicing\n",
        "slicing = Avenger[1:5]\n",
        "slicing_1 = Avenger[:6]\n",
        "print(slicing)\n",
        "print(slicing_1)"
      ],
      "metadata": {
        "colab": {
          "base_uri": "https://localhost:8080/"
        },
        "id": "f_vd0cjVeV1a",
        "outputId": "28bda8b0-e503-42c3-bad5-3c1ffccf4d9c"
      },
      "execution_count": null,
      "outputs": [
        {
          "output_type": "stream",
          "name": "stdout",
          "text": [
            "RONM\n",
            "IRONMA\n"
          ]
        }
      ]
    },
    {
      "cell_type": "code",
      "source": [
        "slicing_2 = Avenger[1:]\n",
        "slicing_3 = Avenger[1:4:2]\n",
        "print(slicing_2)\n",
        "print(slicing_3)"
      ],
      "metadata": {
        "colab": {
          "base_uri": "https://localhost:8080/"
        },
        "id": "a2uN3U2xjgCx",
        "outputId": "672402e7-a3d9-4f4a-e975-d1913a9b5c7a"
      },
      "execution_count": null,
      "outputs": [
        {
          "output_type": "stream",
          "name": "stdout",
          "text": [
            "RONMAN\n",
            "RN\n"
          ]
        }
      ]
    },
    {
      "cell_type": "code",
      "source": [
        "#IRONMAN\n",
        "slicing_4 = Avenger[::]\n",
        "print(slicing_4)"
      ],
      "metadata": {
        "colab": {
          "base_uri": "https://localhost:8080/"
        },
        "id": "2jESWFLwkEW-",
        "outputId": "9c197c2e-80b2-49e4-a200-ecfe5c7cc381"
      },
      "execution_count": null,
      "outputs": [
        {
          "output_type": "stream",
          "name": "stdout",
          "text": [
            "RONMAN\n"
          ]
        }
      ]
    },
    {
      "cell_type": "code",
      "source": [
        "Avenger[0]=\"B\"\n",
        "print(Avenger)\n",
        "# Because Strings are immutable"
      ],
      "metadata": {
        "colab": {
          "base_uri": "https://localhost:8080/",
          "height": 176
        },
        "id": "q8k4ZUH_lWsm",
        "outputId": "2f048f23-dab1-4b63-f664-28bb9c6e4a1f"
      },
      "execution_count": null,
      "outputs": [
        {
          "output_type": "error",
          "ename": "TypeError",
          "evalue": "'str' object does not support item assignment",
          "traceback": [
            "\u001b[0;31m---------------------------------------------------------------------------\u001b[0m",
            "\u001b[0;31mTypeError\u001b[0m                                 Traceback (most recent call last)",
            "\u001b[0;32m/tmp/ipython-input-3152806225.py\u001b[0m in \u001b[0;36m<cell line: 0>\u001b[0;34m()\u001b[0m\n\u001b[0;32m----> 1\u001b[0;31m \u001b[0mAvenger\u001b[0m\u001b[0;34m[\u001b[0m\u001b[0;36m0\u001b[0m\u001b[0;34m]\u001b[0m\u001b[0;34m=\u001b[0m\u001b[0;34m\"B\"\u001b[0m\u001b[0;34m\u001b[0m\u001b[0;34m\u001b[0m\u001b[0m\n\u001b[0m\u001b[1;32m      2\u001b[0m \u001b[0mprint\u001b[0m\u001b[0;34m(\u001b[0m\u001b[0mAvenger\u001b[0m\u001b[0;34m)\u001b[0m\u001b[0;34m\u001b[0m\u001b[0;34m\u001b[0m\u001b[0m\n\u001b[1;32m      3\u001b[0m \u001b[0;31m# Because Strings are immutable\u001b[0m\u001b[0;34m\u001b[0m\u001b[0;34m\u001b[0m\u001b[0m\n",
            "\u001b[0;31mTypeError\u001b[0m: 'str' object does not support item assignment"
          ]
        }
      ]
    },
    {
      "cell_type": "code",
      "source": [
        "for i in range(len(Avenger)) :\n",
        "  print(i, Avenger[i])"
      ],
      "metadata": {
        "colab": {
          "base_uri": "https://localhost:8080/"
        },
        "id": "AjA48KSJmebe",
        "outputId": "33506c25-95f4-412a-8c73-e3d1dae4db40"
      },
      "execution_count": null,
      "outputs": [
        {
          "output_type": "stream",
          "name": "stdout",
          "text": [
            "0 I\n",
            "1 R\n",
            "2 O\n",
            "3 N\n",
            "4 M\n",
            "5 A\n",
            "6 N\n"
          ]
        }
      ]
    },
    {
      "cell_type": "code",
      "source": [
        "n = len(Avenger)\n",
        "for i in range(n):\n",
        "  print((n-1)-i,Avenger[(n-1)-i])"
      ],
      "metadata": {
        "colab": {
          "base_uri": "https://localhost:8080/"
        },
        "id": "u-gbvpLNmoB-",
        "outputId": "c7f1bdd7-2798-4e18-90cc-3b2e993acc26"
      },
      "execution_count": null,
      "outputs": [
        {
          "output_type": "stream",
          "name": "stdout",
          "text": [
            "6 N\n",
            "5 A\n",
            "4 M\n",
            "3 N\n",
            "2 O\n",
            "1 R\n",
            "0 I\n"
          ]
        }
      ]
    },
    {
      "cell_type": "markdown",
      "source": [
        "Q1. Palindrome or not"
      ],
      "metadata": {
        "id": "EtFOkbSsnjX6"
      }
    },
    {
      "cell_type": "code",
      "source": [
        "#RACECAR\n",
        "name = input()\n",
        "n=len(name)\n",
        "if name==name[::-1]:\n",
        "    print(f\"{name} is a palindrome \")\n",
        "else :\n",
        "    print(f\"{name} is not a palindrome\")"
      ],
      "metadata": {
        "colab": {
          "base_uri": "https://localhost:8080/"
        },
        "id": "pCk_XKX-nnfQ",
        "outputId": "1bee7ce7-bbc7-45c9-b484-7aa5cc306dbc"
      },
      "execution_count": null,
      "outputs": [
        {
          "output_type": "stream",
          "name": "stdout",
          "text": [
            "racecar\n",
            "racecar is a palindrome \n"
          ]
        }
      ]
    },
    {
      "cell_type": "markdown",
      "source": [
        "**ASCII VALUES**\n",
        "A - 65 , Z - 90\n",
        "a - 97 , z - 122\n",
        "35 - # ,"
      ],
      "metadata": {
        "id": "FXCJ5l248mU0"
      }
    },
    {
      "cell_type": "markdown",
      "source": [
        "1. In early 1960s a standard was published called American standard code for information interchange (ASCII) . It specify the mappping if binary value of characters , it uses 7-bit to represent the character (0-127) range a(97)  to z(122), A(65) to Z (90)\n",
        "\n",
        "2. The ASCII character sets is limited in that it cannot handle characters from other language , Therefore unicode standard are proposed . Python3 uses unicode by default(UTF-8) . It defines more than one lakh character . The prefix used to print the character in u example given below"
      ],
      "metadata": {
        "id": "cuNkeXyJ8_yy"
      }
    },
    {
      "cell_type": "code",
      "source": [
        "a = \"\\u03C0\"\n",
        "print(a)"
      ],
      "metadata": {
        "colab": {
          "base_uri": "https://localhost:8080/"
        },
        "id": "65bbDbDh77_j",
        "outputId": "fad7f24d-1471-471e-94d5-c3eee6ecb2f6"
      },
      "execution_count": null,
      "outputs": [
        {
          "output_type": "stream",
          "name": "stdout",
          "text": [
            "π\n"
          ]
        }
      ]
    },
    {
      "cell_type": "markdown",
      "source": [
        "\n",
        "1. \\a  alert, beep sound(only on supported terminals) (7)\n",
        "2. \\b backspace (8)\n",
        "3. \\t  horizontal tab (9)\n",
        "4. \\n newline (10)\n",
        "5. \\v vertical tab (11)\n",
        "6. \\f new page (12)\n",
        "7. \\r carriage return (13)          \n",
        "8. \\0 null or string terminator  (0)\n"
      ],
      "metadata": {
        "id": "e-4f-sJV-VjD"
      }
    },
    {
      "cell_type": "code",
      "source": [
        "print(\"Iron man \\nCaptain America\")\n",
        "print(\"Hulk \\t Black Widow\")\n",
        "print(\"Hank\\'s Mission\")\n",
        "print(\"D:\\\\Downloads\")"
      ],
      "metadata": {
        "colab": {
          "base_uri": "https://localhost:8080/"
        },
        "id": "lQf6diSj_Ru-",
        "outputId": "0580891c-f8db-4da4-9842-b076e8833ce0"
      },
      "execution_count": null,
      "outputs": [
        {
          "output_type": "stream",
          "name": "stdout",
          "text": [
            "Iron man \n",
            "Captain America\n",
            "Hulk \t Black Widow\n",
            "Hank's Mission\n",
            "D:\\Downloads\n"
          ]
        }
      ]
    },
    {
      "cell_type": "code",
      "source": [
        "print(\"Wandaa\\b\")\n",
        "print(\"Bruce\\a\")#only on supported terminals\n",
        "print(\"Nightt\\f\")"
      ],
      "metadata": {
        "colab": {
          "base_uri": "https://localhost:8080/"
        },
        "id": "B6_mvi_VBUGo",
        "outputId": "676dd28f-f5d2-4d85-a23c-8ba386bf346d"
      },
      "execution_count": null,
      "outputs": [
        {
          "output_type": "stream",
          "name": "stdout",
          "text": [
            "Wandaa\b\n",
            "Bruce\u0007\n",
            "Nightt\f\n"
          ]
        }
      ]
    },
    {
      "cell_type": "code",
      "source": [
        "x=\"tOny StArK\"\n",
        "y=\"StEvE RogerS\"\n",
        "print(x.lower())\n",
        "print(y.upper())\n",
        "print(x.capitalize())\n",
        "print(y.title())"
      ],
      "metadata": {
        "colab": {
          "base_uri": "https://localhost:8080/"
        },
        "id": "dOgfjFpUCGPI",
        "outputId": "e37e5acf-fd64-4994-9981-d7d58fd950f6"
      },
      "execution_count": null,
      "outputs": [
        {
          "output_type": "stream",
          "name": "stdout",
          "text": [
            "tony stark\n",
            "STEVE ROGERS\n",
            "Tony stark\n",
            "Steve Rogers\n"
          ]
        }
      ]
    },
    {
      "cell_type": "markdown",
      "source": [
        "**Application**\n",
        "1. .lower(),.upper() is used to lower or capitalize the characters in a given string. These methods can be used for normalization to ensure the consistent case for embedding in NLP"
      ],
      "metadata": {
        "id": "89JRoRBVDHHU"
      }
    },
    {
      "cell_type": "markdown",
      "source": [
        "1. Strip method --> Removing characters\n",
        "   It is designed to remoc=ve leading and trailing whitespaces characters or specific character from the string . It does not remove the spaces which occur in the middle of the string.\n",
        "   The alternative method to remove the middle whitespace is .replace(\"The value to be replaced\",\"value you want to replace with\")\n",
        "2. Replace -- 2 arguments\n"
      ],
      "metadata": {
        "id": "J2GIfAVLDpg7"
      }
    },
    {
      "cell_type": "code",
      "source": [
        "X = \"&BRUCE BANNER\"\n",
        "print(X.strip(\"&\"))\n",
        "print(X.replace(\" \",\"\"))"
      ],
      "metadata": {
        "colab": {
          "base_uri": "https://localhost:8080/"
        },
        "id": "EuCX_wm_Dovw",
        "outputId": "91f1a142-fb98-4bc3-ee33-450188e830ab"
      },
      "execution_count": null,
      "outputs": [
        {
          "output_type": "stream",
          "name": "stdout",
          "text": [
            "BRUCE BANNER\n",
            "&BRUCEBANNER\n"
          ]
        }
      ]
    },
    {
      "cell_type": "markdown",
      "source": [
        "**Applications **\n",
        "1. Cleaning the data\n",
        "2. Replace the null calue with any character\n",
        "3. Correcting the text"
      ],
      "metadata": {
        "id": "T4UG1L5iGFEv"
      }
    },
    {
      "cell_type": "markdown",
      "source": [
        "Split and Join"
      ],
      "metadata": {
        "id": "Ep35E3BDGu8U"
      }
    },
    {
      "cell_type": "code",
      "source": [
        "s = \"this movie is amazing . I like this movie\"\n",
        "p = s.split()\n",
        "print(\" \".join(p))"
      ],
      "metadata": {
        "colab": {
          "base_uri": "https://localhost:8080/"
        },
        "id": "8sZkDqsKG8_T",
        "outputId": "25fb70d3-97c3-49c3-fc32-ad16f752d02d"
      },
      "execution_count": null,
      "outputs": [
        {
          "output_type": "stream",
          "name": "stdout",
          "text": [
            "this movie is amazing . I like this movie\n"
          ]
        }
      ]
    },
    {
      "cell_type": "markdown",
      "source": [
        "**Application**\n",
        "1. split/join is used for tokenization\n",
        "2. The method involves splitting the string into a list of word as a spaces as a delimeter. This delimeter automatically handles multiple spaces between words\n",
        "3. Join method join back the word together without any spaces"
      ],
      "metadata": {
        "id": "RsufA-sEIvN5"
      }
    },
    {
      "cell_type": "code",
      "source": [
        "txt=\"This is a python python class\"\n",
        "print(txt.find(\"python\",9,25))\n",
        "print(txt.count(\"python\"))\n",
        "print(txt.index(\"python\"))\n",
        "print(txt.startswith(\"This\"))\n",
        "print(txt.startswith(\"is\",4,12))\n",
        "print(txt.endswith(\"class\"))\n",
        "print(txt.endswith((\"class\",\"python\")))"
      ],
      "metadata": {
        "colab": {
          "base_uri": "https://localhost:8080/"
        },
        "id": "u6IxvUalatwr",
        "outputId": "f127e485-19c8-4f5b-9794-53218aaba334"
      },
      "execution_count": null,
      "outputs": [
        {
          "output_type": "stream",
          "name": "stdout",
          "text": [
            "10\n",
            "2\n",
            "10\n",
            "True\n",
            "False\n",
            "True\n",
            "True\n"
          ]
        }
      ]
    },
    {
      "cell_type": "code",
      "source": [
        "x=\"\\u00B1\" #\\u is for unicode --> used for special chars...\n",
        "print(x)\n",
        "print(x.isdigit())"
      ],
      "metadata": {
        "colab": {
          "base_uri": "https://localhost:8080/"
        },
        "id": "A8wc7b8jcJPF",
        "outputId": "ab02e3f3-01c3-43cd-ccfc-6a5711802dff"
      },
      "execution_count": null,
      "outputs": [
        {
          "output_type": "stream",
          "name": "stdout",
          "text": [
            "±\n",
            "False\n"
          ]
        }
      ]
    },
    {
      "cell_type": "code",
      "source": [
        "Avenger = \"Ironman, Thor, Black Panther\"\n",
        "print(\"Thor\" in Avenger)\n",
        "print(\"Loki\" not in Avenger)\n",
        "if \"Thor\" in Avenger:\n",
        "  print(\"Thor is here\")"
      ],
      "metadata": {
        "colab": {
          "base_uri": "https://localhost:8080/"
        },
        "id": "CRbNH2sUeCL6",
        "outputId": "849a086c-a105-42a2-d12f-9e6177e7546e"
      },
      "execution_count": null,
      "outputs": [
        {
          "output_type": "stream",
          "name": "stdout",
          "text": [
            "True\n",
            "True\n",
            "Thor is here\n"
          ]
        }
      ]
    },
    {
      "cell_type": "markdown",
      "source": [
        "Q. Loki tried to trick Avengers , Check if Loki is in it . If yes , enemy detected! Otherwise All clear."
      ],
      "metadata": {
        "id": "BGDQyXwGez5n"
      }
    },
    {
      "cell_type": "code",
      "source": [
        "Avengers = \"Ironman, Captain America, Thor, Black Panther, Dr.Strange, Vision, Hulk, \"\n",
        "if \"Loki\" in Avengers:\n",
        "  print(\"Enemy detected!\")\n",
        "else:\n",
        "  print(\"All Clear\")\n"
      ],
      "metadata": {
        "colab": {
          "base_uri": "https://localhost:8080/"
        },
        "id": "rjbcuMOSfBwO",
        "outputId": "a88a07cb-5024-4bcf-d9af-4dae097188ae"
      },
      "execution_count": null,
      "outputs": [
        {
          "output_type": "stream",
          "name": "stdout",
          "text": [
            "All Clear\n"
          ]
        }
      ]
    },
    {
      "cell_type": "markdown",
      "source": [
        "Q. We define theusage of capitals in a word to be right, then one of the following cases holds\n",
        "1. Case 1 : All letters in this word are capitals (eg: INDIA)\n",
        "2. Case 2 : All letters in this word are small (eg:leetcode)\n",
        "3. Case 3 : First letter is capital (eg : Python)\n",
        "\n",
        "Given a string word, return true if the usage of capitals in it is right"
      ],
      "metadata": {
        "id": "X06PgbCxfh-O"
      }
    },
    {
      "cell_type": "code",
      "source": [
        "word = str(input())\n",
        "if word.isupper() :\n",
        "  print(\"All are upper case letters\")\n",
        "elif word.islower():\n",
        "  print(\"All are lower case letters\")\n",
        "elif word[0].isupper():\n",
        "   print(\"The word is correct i.e; First letter is capital\")\n",
        "else:\n",
        "  print(false)\n"
      ],
      "metadata": {
        "colab": {
          "base_uri": "https://localhost:8080/"
        },
        "id": "BefWn9qbgJ1o",
        "outputId": "f5b1cadd-10cb-4932-871b-1869aee98035"
      },
      "execution_count": null,
      "outputs": [
        {
          "output_type": "stream",
          "name": "stdout",
          "text": [
            "ASdf\n",
            "The word is correct i.e; First letter is capital\n"
          ]
        }
      ]
    },
    {
      "cell_type": "code",
      "source": [
        "word=[\"how\",\"are\",\"you\"]\n",
        "# print(word.strip(\"\"))\n",
        "\n",
        "for i in word:\n",
        "  print(i.strip(\" \"))"
      ],
      "metadata": {
        "colab": {
          "base_uri": "https://localhost:8080/"
        },
        "id": "SOdBu8HCjXHG",
        "outputId": "883a7f30-88a7-4a37-b4e9-4f2963195006"
      },
      "execution_count": null,
      "outputs": [
        {
          "output_type": "stream",
          "name": "stdout",
          "text": [
            "how\n",
            "are\n",
            "you\n"
          ]
        }
      ]
    },
    {
      "cell_type": "markdown",
      "source": [
        "Boolean variables"
      ],
      "metadata": {
        "id": "psZP7LxyARgf"
      }
    },
    {
      "cell_type": "code",
      "source": [
        "print(type(True))\n",
        "print(type(False))"
      ],
      "metadata": {
        "colab": {
          "base_uri": "https://localhost:8080/"
        },
        "id": "jwDzaE0HAVPx",
        "outputId": "1e65e930-a594-4b40-f800-4efb277f0836"
      },
      "execution_count": null,
      "outputs": [
        {
          "output_type": "stream",
          "name": "stdout",
          "text": [
            "<class 'bool'>\n",
            "<class 'bool'>\n"
          ]
        }
      ]
    },
    {
      "cell_type": "code",
      "source": [
        "print(10>9 and 10>8)\n",
        "print(10>9 or 10<8)\n",
        "# print(10>9 not 10>8) \"not isn't a binary operator\"\n",
        "print(bool([ ])) # empty --> false\n",
        "print(bool(\" \")) # non-empty --> true\n"
      ],
      "metadata": {
        "colab": {
          "base_uri": "https://localhost:8080/"
        },
        "id": "SNgwM5_PBJss",
        "outputId": "dc8816bc-b8f4-42a8-f7aa-c02b5b6feb26"
      },
      "execution_count": null,
      "outputs": [
        {
          "output_type": "stream",
          "name": "stdout",
          "text": [
            "True\n",
            "True\n",
            "False\n",
            "True\n"
          ]
        }
      ]
    },
    {
      "cell_type": "markdown",
      "source": [
        "all() and any () methods\n",
        "1. all() --\n",
        "2. any() --"
      ],
      "metadata": {
        "id": "GVobZQHkC9ZC"
      }
    },
    {
      "cell_type": "code",
      "source": [
        "marks=[45,70,85]\n",
        "print(all(m>=40 for m in marks))\n",
        "print(any(m>=90 for m in marks))"
      ],
      "metadata": {
        "colab": {
          "base_uri": "https://localhost:8080/"
        },
        "id": "jjC5k4DyCDch",
        "outputId": "c52ca1de-33b3-407a-eb2e-d68990e020f1"
      },
      "execution_count": null,
      "outputs": [
        {
          "output_type": "stream",
          "name": "stdout",
          "text": [
            "True\n",
            "False\n"
          ]
        }
      ]
    },
    {
      "cell_type": "code",
      "source": [
        "a,b = True , False\n",
        "print(a^b)\n",
        "print(a^a)\n"
      ],
      "metadata": {
        "colab": {
          "base_uri": "https://localhost:8080/"
        },
        "id": "Aya7ExxHD2jD",
        "outputId": "a687ff51-78c1-486d-f4e1-6c2d8678aaa3"
      },
      "execution_count": null,
      "outputs": [
        {
          "output_type": "stream",
          "name": "stdout",
          "text": [
            "True\n",
            "False\n"
          ]
        }
      ]
    },
    {
      "cell_type": "markdown",
      "source": [
        "Q. Swapping using XOR(Logical operator)\n",
        "\n",
        "Applications of XOR :\n",
        "1. Used to Toggle(ing)\n",
        "2. To check divisibility by multiple numbers"
      ],
      "metadata": {
        "id": "_YMUlmW-EPxE"
      }
    },
    {
      "cell_type": "code",
      "source": [
        "a , b = 10 , 20\n",
        "#a,b = b,a\n",
        "print(f\"before swapping : {a}, {b}\")\n",
        "a=a^b\n",
        "b=a^b\n",
        "a=a^b\n",
        "print(f\"after swapping : {a}, {b}\")"
      ],
      "metadata": {
        "colab": {
          "base_uri": "https://localhost:8080/"
        },
        "id": "fMR7BuTOEPHW",
        "outputId": "60205580-2b35-4b5a-dffb-fac2b1ef0db5"
      },
      "execution_count": null,
      "outputs": [
        {
          "output_type": "stream",
          "name": "stdout",
          "text": [
            "before swapping : 10, 20\n",
            "after swapping : 20, 10\n"
          ]
        }
      ]
    },
    {
      "cell_type": "code",
      "source": [
        "print(10>9>8)\n",
        "print(10<9>8)"
      ],
      "metadata": {
        "colab": {
          "base_uri": "https://localhost:8080/"
        },
        "id": "csvgkme5G31H",
        "outputId": "daaa86da-6186-4d9a-be2f-2ddf9623fe1c"
      },
      "execution_count": null,
      "outputs": [
        {
          "output_type": "stream",
          "name": "stdout",
          "text": [
            "True\n",
            "False\n"
          ]
        }
      ]
    },
    {
      "cell_type": "markdown",
      "source": [
        "Q."
      ],
      "metadata": {
        "id": "HmLHvwgpIJrB"
      }
    },
    {
      "cell_type": "code",
      "source": [
        "n=21\n",
        "print((n%3==0)^(n%7==0))"
      ],
      "metadata": {
        "colab": {
          "base_uri": "https://localhost:8080/"
        },
        "id": "lYmqy2SsIMnd",
        "outputId": "6454cea5-e8a0-4601-e07a-935f126aa487"
      },
      "execution_count": null,
      "outputs": [
        {
          "output_type": "stream",
          "name": "stdout",
          "text": [
            "False\n"
          ]
        }
      ]
    },
    {
      "cell_type": "markdown",
      "source": [
        "1. 'is' checks the identity whereas '==' check the equality of values (content)\n",
        "2. both a and b are list with same element with 1,2. So python prints true\n",
        "3. When you write a=[1,2] and b=[1,2], python creates two different list object in memory, Therefore output is false\n",
        "4. **Important note** : If you use small integers ans strings, sometimes a is b can be true because of *python interning* (optimization for performance)\n",
        "5. In case of list , dictionary , sets - Python always creates a new object unless you explicitly assign"
      ],
      "metadata": {
        "id": "5PGcsWH7JhhH"
      }
    },
    {
      "cell_type": "code",
      "source": [
        "a = [1,2]\n",
        "b = [1,2]\n",
        "print(a==b)\n",
        "print(a is b)\n",
        "a = 100\n",
        "b = 100\n",
        "print (a is b)\n",
        "s1=\"hello\"\n",
        "s2=\"hello\"\n",
        "print(s1 is s2)"
      ],
      "metadata": {
        "colab": {
          "base_uri": "https://localhost:8080/"
        },
        "id": "Gk07KlhCI24K",
        "outputId": "ebb7aaeb-440a-4a56-f1d1-632ae7802532"
      },
      "execution_count": null,
      "outputs": [
        {
          "output_type": "stream",
          "name": "stdout",
          "text": [
            "True\n",
            "False\n",
            "True\n",
            "True\n"
          ]
        }
      ]
    },
    {
      "cell_type": "markdown",
      "source": [
        "1. Q. How can all() and any() make code shorter compared to multiple if code\n",
        "2. Q. Write 5 boolean condition using all() or any() from college life"
      ],
      "metadata": {
        "id": "GgbNTSGVKxkf"
      }
    },
    {
      "cell_type": "markdown",
      "source": [
        "**Operators**"
      ],
      "metadata": {
        "id": "YJNg_UHcqSm8"
      }
    },
    {
      "cell_type": "code",
      "source": [
        "a=-10\n",
        "b=2\n",
        "print(a+b, a-b , a*b , a/b , a//b, a**b , a %b )\n",
        "\n",
        "\n"
      ],
      "metadata": {
        "colab": {
          "base_uri": "https://localhost:8080/"
        },
        "id": "pV_jaL_hqSRz",
        "outputId": "6842750a-84fd-4813-f0e8-e92df6b48424"
      },
      "execution_count": null,
      "outputs": [
        {
          "output_type": "stream",
          "name": "stdout",
          "text": [
            "-8 -12 -20 -5.0 -5 100 0\n"
          ]
        }
      ]
    },
    {
      "cell_type": "markdown",
      "source": [
        "**NOTE** :  Float division round down , not towards zero, python always follows mathematical floor division, not truncation(in c or c++ the output truncates towards zero)\n"
      ],
      "metadata": {
        "id": "tB_8gCbLrm5g"
      }
    },
    {
      "cell_type": "markdown",
      "source": [
        "**Assignment operators**\n",
        "\n",
        "+= , -= , *= , /= , //= , %= , ** , &= , |= , ^= , >>=(division) , <<=(multiply)\n",
        "\n",
        "Used for\n",
        "1. Code optimization\n",
        "2. In place updation\n",
        "3. Effecient"
      ],
      "metadata": {
        "id": "UGDuVJwervzL"
      }
    },
    {
      "cell_type": "code",
      "source": [
        "a = 10\n",
        "b = 3\n",
        "a+=b\n",
        "print(a)\n",
        "a-=b\n",
        "print(a)\n",
        "a*=b\n",
        "print(a)\n",
        "a/=b\n",
        "print(a)\n",
        "a//=b\n",
        "print(a)\n",
        "a%=b\n",
        "print(a)\n",
        "a**b\n",
        "print(a)\n",
        "# Reset a to an integer before bitwise operations\n",
        "a = 10\n",
        "b = 3\n",
        "a&=b\n",
        "print(a)\n",
        "a|=b\n",
        "print(a)\n",
        "a^=b\n",
        "print(a)\n",
        "a>>=b\n",
        "print(a)\n",
        "a<<=b\n",
        "print(a)"
      ],
      "metadata": {
        "colab": {
          "base_uri": "https://localhost:8080/"
        },
        "id": "Yu_tL4ZctZZZ",
        "outputId": "627427ce-a951-4733-e97b-f4bfe14db4c0"
      },
      "execution_count": null,
      "outputs": [
        {
          "output_type": "stream",
          "name": "stdout",
          "text": [
            "13\n",
            "10\n",
            "30\n",
            "10.0\n",
            "3.0\n",
            "0.0\n",
            "0.0\n",
            "2\n",
            "3\n",
            "0\n",
            "0\n",
            "0\n"
          ]
        }
      ]
    },
    {
      "cell_type": "code",
      "source": [
        "x = 5\n",
        "x *= 2 + 3\n",
        "x\n",
        "# assignment operator has lowest precedence\n",
        "# so we first calculate arithmetic (2 + 3) and then multiply with 5"
      ],
      "metadata": {
        "colab": {
          "base_uri": "https://localhost:8080/"
        },
        "id": "TaQ7lGSEu64L",
        "outputId": "8b44ea34-c16d-4ce7-d08d-2be3da1c801f"
      },
      "execution_count": null,
      "outputs": [
        {
          "output_type": "execute_result",
          "data": {
            "text/plain": [
              "25"
            ]
          },
          "metadata": {},
          "execution_count": 9
        }
      ]
    },
    {
      "cell_type": "markdown",
      "source": [
        "**Comparison operators**"
      ],
      "metadata": {
        "id": "Hudu3u3Nvm9p"
      }
    },
    {
      "cell_type": "code",
      "source": [
        "\n",
        "print(10 == 10.0)\n",
        "print(\"10\" == 10.0) # no comparision with strings\n",
        "print(3<4<5)\n"
      ],
      "metadata": {
        "colab": {
          "base_uri": "https://localhost:8080/"
        },
        "id": "wLEqTOgFvUC_",
        "outputId": "24d45f2c-cc5a-417d-a56a-de804ad6995c"
      },
      "execution_count": null,
      "outputs": [
        {
          "output_type": "stream",
          "name": "stdout",
          "text": [
            "True\n",
            "False\n",
            "True\n",
            "True\n",
            "True\n"
          ]
        }
      ]
    },
    {
      "cell_type": "code",
      "source": [
        "print(True == 1)\n",
        "print(False == 0)\n",
        "print(True + True)"
      ],
      "metadata": {
        "colab": {
          "base_uri": "https://localhost:8080/"
        },
        "id": "6POTtmslwOhu",
        "outputId": "3130b5ea-ad3b-4441-8d00-b2b6ec818acf"
      },
      "execution_count": null,
      "outputs": [
        {
          "output_type": "stream",
          "name": "stdout",
          "text": [
            "True\n",
            "True\n",
            "2\n"
          ]
        }
      ]
    },
    {
      "cell_type": "markdown",
      "source": [
        "**NOTE :**\n",
        "1.  python emphasize chain comparision\n",
        "2. booleans are subclass of integer"
      ],
      "metadata": {
        "id": "rTrqv8prwepF"
      }
    },
    {
      "cell_type": "markdown",
      "source": [
        "**Logical Operators**"
      ],
      "metadata": {
        "id": "TtedJ5cQwo4w"
      }
    },
    {
      "cell_type": "code",
      "source": [
        "print(True and False)\n",
        "print(True or False)\n",
        "# print(True not False)\n",
        "print(0 and 5)\n",
        "print(0 or 5)\n",
        "print([] and \"hi\")#[] is falsy\n",
        "print([] or \"hi\")"
      ],
      "metadata": {
        "colab": {
          "base_uri": "https://localhost:8080/"
        },
        "id": "yKBEid2Vwsh6",
        "outputId": "86a21600-1bcf-4ec6-eb23-39c1432c12f6"
      },
      "execution_count": null,
      "outputs": [
        {
          "output_type": "stream",
          "name": "stdout",
          "text": [
            "False\n",
            "True\n",
            "0\n",
            "5\n",
            "[]\n",
            "hi\n"
          ]
        }
      ]
    },
    {
      "cell_type": "markdown",
      "source": [
        "**NOTE : **\n",
        "1. (A and B) will not evaluate B until A is True, This is called short-circuiting"
      ],
      "metadata": {
        "id": "PiaX9GO1xzje"
      }
    },
    {
      "cell_type": "markdown",
      "source": [
        "**Identity Operators**\n",
        "\n",
        "#"
      ],
      "metadata": {
        "id": "-XkMTw0UyIfx"
      }
    },
    {
      "cell_type": "code",
      "source": [
        "#1. is , isnot --> check object identity not value"
      ],
      "metadata": {
        "id": "6kuAbw_kw7kh"
      },
      "execution_count": null,
      "outputs": []
    },
    {
      "cell_type": "code",
      "source": [
        "a=[1,2,3]\n",
        "b=[1,2,3]\n",
        "print(a==b)\n",
        "print(a is b)"
      ],
      "metadata": {
        "colab": {
          "base_uri": "https://localhost:8080/"
        },
        "id": "4N2jOe_hzF71",
        "outputId": "6c44ade2-45a4-4d8a-b38b-1ad1c0d3d3e8"
      },
      "execution_count": null,
      "outputs": [
        {
          "output_type": "stream",
          "name": "stdout",
          "text": [
            "True\n",
            "False\n"
          ]
        }
      ]
    },
    {
      "cell_type": "code",
      "source": [
        "x = 256\n",
        "y=256\n",
        "print(x is y)\n",
        "x = 257\n",
        "y=256\n",
        "print(x is y)\n",
        "x= 257\n",
        "y=257\n",
        "print(x is y)"
      ],
      "metadata": {
        "colab": {
          "base_uri": "https://localhost:8080/"
        },
        "id": "1DkySVxzy4YD",
        "outputId": "85752f30-d84a-4ac5-abe6-be1315fdafb6"
      },
      "execution_count": null,
      "outputs": [
        {
          "output_type": "stream",
          "name": "stdout",
          "text": [
            "True\n",
            "False\n",
            "False\n"
          ]
        }
      ]
    },
    {
      "cell_type": "markdown",
      "source": [
        "**NOTE : **\n",
        "1. In python 5 to 256 has same memory allocation, after that range it assigns different address"
      ],
      "metadata": {
        "id": "6O0Jfn2czOUi"
      }
    },
    {
      "cell_type": "markdown",
      "source": [
        "**Membership operators**"
      ],
      "metadata": {
        "id": "A1AfmPxkzfPN"
      }
    },
    {
      "cell_type": "markdown",
      "source": [
        "in , not in"
      ],
      "metadata": {
        "id": "WvkZp8hIztY9"
      }
    },
    {
      "cell_type": "code",
      "source": [
        "print(\"nana\" in \"banana\")"
      ],
      "metadata": {
        "colab": {
          "base_uri": "https://localhost:8080/"
        },
        "id": "PqLFS9Iszjcx",
        "outputId": "0c231a9b-73a6-434d-af37-4f1bbd54a386"
      },
      "execution_count": null,
      "outputs": [
        {
          "output_type": "stream",
          "name": "stdout",
          "text": [
            "True\n"
          ]
        }
      ]
    },
    {
      "cell_type": "markdown",
      "source": [
        "**Bitwise operators**\n",
        "\n",
        "\n",
        "*  ^ , ~ , << , >>\n",
        "\n"
      ],
      "metadata": {
        "id": "QmUhGvSlz_uP"
      }
    },
    {
      "cell_type": "code",
      "source": [
        "print(5&3)\n",
        "print(5|3)\n",
        "print(5^3)\n",
        "print(~5)\n",
        "print(5<<1)\n",
        "print(5>>1)"
      ],
      "metadata": {
        "colab": {
          "base_uri": "https://localhost:8080/"
        },
        "id": "ZJ0vbWoO0CWF",
        "outputId": "1655fb77-67ae-492c-f21a-7f91da4c4e0d"
      },
      "execution_count": null,
      "outputs": [
        {
          "output_type": "stream",
          "name": "stdout",
          "text": [
            "1\n",
            "7\n",
            "6\n",
            "-6\n",
            "10\n",
            "2\n"
          ]
        }
      ]
    },
    {
      "cell_type": "code",
      "source": [
        "lst = [2,7,11,15]\n",
        "tgt = 9\n",
        "for i in lst:\n",
        "  if tgt-i in lst:\n",
        "    print(i, tgt-i)\n"
      ],
      "metadata": {
        "colab": {
          "base_uri": "https://localhost:8080/"
        },
        "id": "z6bE4qBd1AP7",
        "outputId": "da647dbd-780d-46ec-fed0-140ef9db3ffd"
      },
      "execution_count": null,
      "outputs": [
        {
          "output_type": "stream",
          "name": "stdout",
          "text": [
            "2 7\n",
            "7 2\n"
          ]
        }
      ]
    }
  ]
}