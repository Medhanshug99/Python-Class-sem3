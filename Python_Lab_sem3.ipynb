{
  "nbformat": 4,
  "nbformat_minor": 0,
  "metadata": {
    "colab": {
      "provenance": [],
      "authorship_tag": "ABX9TyNmsg9cJHqmNdhUH/rkvqnz",
      "include_colab_link": true
    },
    "kernelspec": {
      "name": "python3",
      "display_name": "Python 3"
    },
    "language_info": {
      "name": "python"
    }
  },
  "cells": [
    {
      "cell_type": "markdown",
      "metadata": {
        "id": "view-in-github",
        "colab_type": "text"
      },
      "source": [
        "<a href=\"https://colab.research.google.com/github/Medhanshug99/Python-Class-sem3/blob/main/Python_Lab_sem3.ipynb\" target=\"_parent\"><img src=\"https://colab.research.google.com/assets/colab-badge.svg\" alt=\"Open In Colab\"/></a>"
      ]
    },
    {
      "cell_type": "markdown",
      "source": [
        "Experiment_1_Task_1"
      ],
      "metadata": {
        "id": "ovQwH4UDCpAp"
      }
    },
    {
      "cell_type": "markdown",
      "source": [
        "**10-09-2025**"
      ],
      "metadata": {
        "id": "WWCHtRqDE5Qr"
      }
    },
    {
      "cell_type": "code",
      "execution_count": null,
      "metadata": {
        "colab": {
          "base_uri": "https://localhost:8080/"
        },
        "id": "fQ0ndyMzBsmN",
        "outputId": "18be103e-ceba-4a75-c180-1fec2bd6e56b"
      },
      "outputs": [
        {
          "output_type": "stream",
          "name": "stdout",
          "text": [
            "Enter the value of a :\n",
            "8\n",
            "Enter the value of b :\n",
            "5\n",
            "before swapping : 8 , 5\n",
            "after swapping : 5 , 8\n"
          ]
        }
      ],
      "source": [
        "# Student Name : Poojari Medhansh\n",
        "# Roll Number : [2024UG1099]\n",
        "# Course : CS-2101/CD-2101 - Python Programming Lab\n",
        "#Experiment 1 - Task 1 : Swapping Two numbers\n",
        "\n",
        "# code to swap two numbers\n",
        "\n",
        "print(\"Enter the value of a :\")\n",
        "a = input()\n",
        "print(\"Enter the value of b :\")\n",
        "b = input()\n",
        "print(f\"before swapping : {a} , {b}\")\n",
        "a , b = b , a\n",
        "print(f\"after swapping : {a} , {b}\")\n",
        "\n"
      ]
    },
    {
      "cell_type": "markdown",
      "source": [
        "Experiment_1_Task_2"
      ],
      "metadata": {
        "id": "_2ilwpNJEOzF"
      }
    },
    {
      "cell_type": "code",
      "source": [
        "# Student Name : Poojari Medhansh\n",
        "# Roll Number : [2024UG1099]\n",
        "# Course : CS-2101/CD-2101 - Python Programming Lab\n",
        "#Experiment 1 - Task 2 : Create a program to compute student marks (average, grade, classification)\n",
        "\n",
        "print(\"Enter the number of subjects\")\n",
        "sub_ = int(input())\n",
        "marks_list = []\n",
        "for i in range(sub_):\n",
        "  print(f\"Enter the marks of subject {i+1} : \")\n",
        "  marks = int(input())\n",
        "  marks_list.append(marks)\n",
        "\n",
        "total = sum(marks_list)\n",
        "print(f\"Total marks: {total}\")\n",
        "\n",
        "average = total / sub_\n",
        "print(f\"Average marks: {average:.2f}\")\n",
        "if average >= 90:\n",
        "  print(f\"The grade is A\")\n",
        "elif average >= 80:\n",
        "   print(f\"The grade is B\")\n",
        "elif average >= 70:\n",
        "  print(f\"The grade is C\")\n",
        "elif average >= 60:\n",
        "  print(f\"The grade is D\")\n",
        "else:\n",
        "  print(f\"The grade is F\")\n"
      ],
      "metadata": {
        "colab": {
          "base_uri": "https://localhost:8080/"
        },
        "id": "hbEolIIMEQlw",
        "outputId": "660e3417-6d80-472d-a7ea-be05ed5c7f06"
      },
      "execution_count": null,
      "outputs": [
        {
          "output_type": "stream",
          "name": "stdout",
          "text": [
            "Enter the number of subjects\n",
            "3\n",
            "Enter the marks of subject 1 : \n",
            "89\n",
            "Enter the marks of subject 2 : \n",
            "99\n",
            "Enter the marks of subject 3 : \n",
            "72\n",
            "Total marks: 260\n",
            "Average marks: 86.67\n",
            "The grade is B\n"
          ]
        }
      ]
    },
    {
      "cell_type": "markdown",
      "source": [
        "Experiment_1_Task_3"
      ],
      "metadata": {
        "id": "IfMVekIAF-T_"
      }
    },
    {
      "cell_type": "code",
      "source": [
        "# Student Name : Poojari Medhansh\n",
        "# Roll Number : [2024UG1099]\n",
        "# Course : CS-2101/CD-2101 - Python Programming Lab\n",
        "#Experiment 1 - Task 3 : Write a program to calculate the perimeter and area of the rectangle of a given length and breadth\n",
        "print(\"Enter the length and breadth of the rectangle\")\n",
        "length = int(input())\n",
        "breadth = int(input())\n",
        "perimeter = 2 * (length + breadth)\n",
        "area = length * breadth\n",
        "print(f\"The Perimeter of the rectangle is {perimeter}\")\n",
        "print(f\"The Area of the rectangle is {area}\")\n",
        "\n"
      ],
      "metadata": {
        "colab": {
          "base_uri": "https://localhost:8080/"
        },
        "id": "XheA1xAfF_bU",
        "outputId": "54debbec-31e8-4bdd-82e6-45081fc44272"
      },
      "execution_count": null,
      "outputs": [
        {
          "output_type": "stream",
          "name": "stdout",
          "text": [
            "Enter the length and breadth of the rectangle\n",
            "8\n",
            "5\n",
            "The Perimeter of the rectangle is 26\n",
            "The Area of the rectangle is 40\n"
          ]
        }
      ]
    },
    {
      "cell_type": "markdown",
      "source": [
        "Experiment_1_Task_4(Without using inbuilt functions)"
      ],
      "metadata": {
        "id": "rJuW2_MNG5uY"
      }
    },
    {
      "cell_type": "code",
      "source": [
        "# Student Name : Poojari Medhansh\n",
        "# Roll Number : [2024UG1099]\n",
        "# Course : CS-2101/CD-2101 - Python Programming Lab\n",
        "#Experiment 1 - Task 4 : Input two complex numbers and display their sum, difference, and product(Without using inbuilt functions)\n",
        "\n",
        "print(\"Enter the Real and imaginary part of z1\")\n",
        "x1  = int(input())\n",
        "y1 = int(input())\n",
        "print(\"Enter the Real and imaginary part of z2\")\n",
        "x2  = int(input())\n",
        "y2 = int(input())\n",
        "imag1=y1\n",
        "if imag1>0:\n",
        "  sign='+'\n",
        "  print(f\"z1 = {x1}{sign}{y1}i\")\n",
        "else:\n",
        "  sign=''\n",
        "  print(f\"z1 = {x1}{sign}{y1}i\")\n",
        "imag2=y2\n",
        "if imag2>0:\n",
        "  sign='+'\n",
        "  print(f\"z2 = {x2}{sign}{y2}i\")\n",
        "else:\n",
        "  sign=''\n",
        "  print(f\"z2 = {x2}{sign}{y2}i\")\n",
        "\n",
        "print(\"Choose the operation : +/-/x\")\n",
        "op = str(input())\n",
        "if op == '+':\n",
        "  real = x1+x2\n",
        "  imag = y1+y2\n",
        "  if imag>0 :\n",
        "    sign='+'\n",
        "    print(f\"The sum of z1 and z2 is {real}{sign}{imag}i\")\n",
        "  else:\n",
        "    sign=''\n",
        "    print(f\"The sum of z1 and z2 is {real}{sign}{imag}i\")\n",
        "elif op == '-':\n",
        "  real = x1-x2\n",
        "  imag = y1-y2\n",
        "  if imag>0 :\n",
        "    sign='+'\n",
        "    print(f\"The difference of z1 and z2 is {real}{sign}{imag}i\")\n",
        "  else:\n",
        "    sign=''\n",
        "    print(f\"The difference of z1 and z2 is {real}{sign}{imag}i\")\n",
        "elif op == 'x':\n",
        "  real = (x1*x2)-(y1*y2)\n",
        "  imag = (x1*y2)+(x2*y1)\n",
        "  if imag>0 :\n",
        "    sign='+'\n",
        "    print(f\"The product of z1 and z2 is {real}{sign}{imag}i\")\n",
        "  else:\n",
        "    sign=''\n",
        "    print(f\"The product of z1 and z2 is {real}{sign}{imag}i\")\n"
      ],
      "metadata": {
        "colab": {
          "base_uri": "https://localhost:8080/"
        },
        "id": "SZCQ4lOYG8iu",
        "outputId": "a5d5aaa3-a2e1-47fd-99dd-dcd9ec49acd1"
      },
      "execution_count": null,
      "outputs": [
        {
          "output_type": "stream",
          "name": "stdout",
          "text": [
            "Enter the Real and imaginary part of z1\n",
            "-9\n",
            "-8\n",
            "Enter the Real and imaginary part of z2\n",
            "-5\n",
            "7\n",
            "z1 = -9-8i\n",
            "z2 = -5+7i\n",
            "Choose the operation : +/-/x\n",
            "-\n",
            "The difference of z1 and z2 is -4-15i\n"
          ]
        }
      ]
    },
    {
      "cell_type": "markdown",
      "source": [
        "Experiment_1_Task_4(With using inbuilt functions)"
      ],
      "metadata": {
        "id": "y0jaAAPFRkMw"
      }
    },
    {
      "cell_type": "code",
      "source": [
        "# Student Name : Poojari Medhansh\n",
        "# Roll Number : [2024UG1099]\n",
        "# Course : CS-2101/CD-2101 - Python Programming Lab\n",
        "#Experiment 1 - Task 4 : Input two complex numbers and display their sum, difference, and product(With using inbuilt functions)\n",
        "#\n",
        "\n",
        "z1 = complex(input(\"Enter the first complex number : (ex:3+4j)\"))\n",
        "z2 = complex(input(\"Enter the second complex number : (ex:8-5j)\"))\n",
        "\n",
        "sum_ = z1 + z2\n",
        "diff_ = z1 - z2\n",
        "prod = z1 * z2\n",
        "\n",
        "print(f\"z1 + z2 = {sum_}\")\n",
        "print(f\"z1 - z2 = {diff_}\")\n",
        "print(f\"z1 * z2 = {prod}\")"
      ],
      "metadata": {
        "colab": {
          "base_uri": "https://localhost:8080/"
        },
        "id": "pVNNY9l5Rocd",
        "outputId": "868c89bf-af31-4567-f56b-90e58c9bb6fc"
      },
      "execution_count": null,
      "outputs": [
        {
          "output_type": "stream",
          "name": "stdout",
          "text": [
            "Enter the first complex number : (ex:3+4j)9+4j\n",
            "Enter the second complex number : (ex:8-5j)8-6j\n",
            "z1 + z2 = (17-2j)\n",
            "z1 - z2 = (1+10j)\n",
            "z1 * z2 = (96-22j)\n"
          ]
        }
      ]
    },
    {
      "cell_type": "markdown",
      "source": [
        "Experiment_1_Task_5"
      ],
      "metadata": {
        "id": "MRgwPDRIHWE3"
      }
    },
    {
      "cell_type": "code",
      "source": [
        "# Student Name : Poojari Medhansh\n",
        "# Roll Number : [2024UG1099]\n",
        "# Course : CS-2101/CD-2101 - Python Programming Lab\n",
        "#Experiment 1 - Task 5 : Convert temperature from Celsius to Fahrenheit and vice versa\n",
        "\n",
        "print(\"Enter the temperature\")\n",
        "temp = float(input())\n",
        "print(\"Enter your choice\")\n",
        "print(\"1. Convert Celsius to Fahrenheit\")\n",
        "print(\"2. Convert Fahrenheit to Celsius\")\n",
        "choice = int(input())\n",
        "if choice==1:\n",
        "  print(temp*(9/5) + 32)\n",
        "elif choice == 2:\n",
        "  print((temp-32)* (5/9))\n",
        "else :\n",
        "  print(\"Invalid choice\")"
      ],
      "metadata": {
        "colab": {
          "base_uri": "https://localhost:8080/"
        },
        "id": "o0OEPNk1HYJG",
        "outputId": "4f93e0f1-fb82-45f8-e868-782ee52d76fb"
      },
      "execution_count": null,
      "outputs": [
        {
          "output_type": "stream",
          "name": "stdout",
          "text": [
            "Enter the temperature\n",
            "37\n",
            "Enter your choice\n",
            "1. Convert Celsius to Fahrenheit\n",
            "2. Convert Fahrenheit to Celsius\n",
            "1\n",
            "98.60000000000001\n"
          ]
        }
      ]
    },
    {
      "cell_type": "markdown",
      "source": [
        "**17-09-2025**"
      ],
      "metadata": {
        "id": "TIwuDrWDE0n4"
      }
    },
    {
      "cell_type": "markdown",
      "source": [
        "Experiment_2_Task_1"
      ],
      "metadata": {
        "id": "RJWGEaL0FBhI"
      }
    },
    {
      "cell_type": "code",
      "source": [
        "# Student Name : Poojari Medhansh\n",
        "# Roll Number : [2024UG1099]\n",
        "# Course : CS-2101/CD-2101 - Python Programming Lab\n",
        "#Experiment 2 - Task 1 : Create a Python program that asks the user for their age.\n",
        "#Implement conditional statements to check the following: If the user is below 18, print \"You are a minor.\" If the user is between 18 and 65, print \"You are an adult.\"\n",
        "#If the user is above 65, print \"You are a senior.\" Add a check for invalid input (e.g., user enters a non-numeric value).\n",
        "\n",
        "age = int(input())\n",
        "if age<18 :\n",
        "  print(\"You are minor\")\n",
        "elif age>=18 and age<=65 :\n",
        "  print(\"You are an adult\")\n",
        "elif age>65:\n",
        "  print(\"You are a senior\")\n",
        "else :\n",
        "  print(\"Invalid value entered\")\n",
        "\n"
      ],
      "metadata": {
        "colab": {
          "base_uri": "https://localhost:8080/"
        },
        "id": "6ve0L4w-E4Lw",
        "outputId": "736e864d-91da-4eae-97ba-a0914b778d90"
      },
      "execution_count": null,
      "outputs": [
        {
          "output_type": "stream",
          "name": "stdout",
          "text": [
            "85\n",
            "You are a senior\n"
          ]
        }
      ]
    },
    {
      "cell_type": "markdown",
      "source": [
        "Experiment_2_task_2"
      ],
      "metadata": {
        "id": "J0ITFPEsGOu-"
      }
    },
    {
      "cell_type": "code",
      "source": [
        "# Student Name : Poojari Medhansh\n",
        "# Roll Number : [2024UG1099]\n",
        "# Course : CS-2101/CD-2101 - Python Programming Lab\n",
        "#Experiment 2 - Task 2 : Write a Python program that generates a multiplication table for numbers from 1 to 12.\n",
        "#Use nested loops to display the table in a well-formatted way. Print both the rows and columns of the table with their appropriate labels.\n",
        "\n",
        "for i in range(12):\n",
        "  print(f\"The multiplication table of {i+1} : \")\n",
        "  for j in range(10):\n",
        "    print(f\"{i+1} x {j+1} = {(i+1)*(j+1)}\")\n",
        "  print(\"\\n\")\n",
        "\n"
      ],
      "metadata": {
        "colab": {
          "base_uri": "https://localhost:8080/"
        },
        "id": "KV0DOkC5GOTV",
        "outputId": "cf993715-8c40-461f-93c4-eaa0315a3b81"
      },
      "execution_count": null,
      "outputs": [
        {
          "output_type": "stream",
          "name": "stdout",
          "text": [
            "The multiplication table of 1 : \n",
            "1 x 1 = 1\n",
            "1 x 2 = 2\n",
            "1 x 3 = 3\n",
            "1 x 4 = 4\n",
            "1 x 5 = 5\n",
            "1 x 6 = 6\n",
            "1 x 7 = 7\n",
            "1 x 8 = 8\n",
            "1 x 9 = 9\n",
            "1 x 10 = 10\n",
            "\n",
            "\n",
            "The multiplication table of 2 : \n",
            "2 x 1 = 2\n",
            "2 x 2 = 4\n",
            "2 x 3 = 6\n",
            "2 x 4 = 8\n",
            "2 x 5 = 10\n",
            "2 x 6 = 12\n",
            "2 x 7 = 14\n",
            "2 x 8 = 16\n",
            "2 x 9 = 18\n",
            "2 x 10 = 20\n",
            "\n",
            "\n",
            "The multiplication table of 3 : \n",
            "3 x 1 = 3\n",
            "3 x 2 = 6\n",
            "3 x 3 = 9\n",
            "3 x 4 = 12\n",
            "3 x 5 = 15\n",
            "3 x 6 = 18\n",
            "3 x 7 = 21\n",
            "3 x 8 = 24\n",
            "3 x 9 = 27\n",
            "3 x 10 = 30\n",
            "\n",
            "\n",
            "The multiplication table of 4 : \n",
            "4 x 1 = 4\n",
            "4 x 2 = 8\n",
            "4 x 3 = 12\n",
            "4 x 4 = 16\n",
            "4 x 5 = 20\n",
            "4 x 6 = 24\n",
            "4 x 7 = 28\n",
            "4 x 8 = 32\n",
            "4 x 9 = 36\n",
            "4 x 10 = 40\n",
            "\n",
            "\n",
            "The multiplication table of 5 : \n",
            "5 x 1 = 5\n",
            "5 x 2 = 10\n",
            "5 x 3 = 15\n",
            "5 x 4 = 20\n",
            "5 x 5 = 25\n",
            "5 x 6 = 30\n",
            "5 x 7 = 35\n",
            "5 x 8 = 40\n",
            "5 x 9 = 45\n",
            "5 x 10 = 50\n",
            "\n",
            "\n",
            "The multiplication table of 6 : \n",
            "6 x 1 = 6\n",
            "6 x 2 = 12\n",
            "6 x 3 = 18\n",
            "6 x 4 = 24\n",
            "6 x 5 = 30\n",
            "6 x 6 = 36\n",
            "6 x 7 = 42\n",
            "6 x 8 = 48\n",
            "6 x 9 = 54\n",
            "6 x 10 = 60\n",
            "\n",
            "\n",
            "The multiplication table of 7 : \n",
            "7 x 1 = 7\n",
            "7 x 2 = 14\n",
            "7 x 3 = 21\n",
            "7 x 4 = 28\n",
            "7 x 5 = 35\n",
            "7 x 6 = 42\n",
            "7 x 7 = 49\n",
            "7 x 8 = 56\n",
            "7 x 9 = 63\n",
            "7 x 10 = 70\n",
            "\n",
            "\n",
            "The multiplication table of 8 : \n",
            "8 x 1 = 8\n",
            "8 x 2 = 16\n",
            "8 x 3 = 24\n",
            "8 x 4 = 32\n",
            "8 x 5 = 40\n",
            "8 x 6 = 48\n",
            "8 x 7 = 56\n",
            "8 x 8 = 64\n",
            "8 x 9 = 72\n",
            "8 x 10 = 80\n",
            "\n",
            "\n",
            "The multiplication table of 9 : \n",
            "9 x 1 = 9\n",
            "9 x 2 = 18\n",
            "9 x 3 = 27\n",
            "9 x 4 = 36\n",
            "9 x 5 = 45\n",
            "9 x 6 = 54\n",
            "9 x 7 = 63\n",
            "9 x 8 = 72\n",
            "9 x 9 = 81\n",
            "9 x 10 = 90\n",
            "\n",
            "\n",
            "The multiplication table of 10 : \n",
            "10 x 1 = 10\n",
            "10 x 2 = 20\n",
            "10 x 3 = 30\n",
            "10 x 4 = 40\n",
            "10 x 5 = 50\n",
            "10 x 6 = 60\n",
            "10 x 7 = 70\n",
            "10 x 8 = 80\n",
            "10 x 9 = 90\n",
            "10 x 10 = 100\n",
            "\n",
            "\n",
            "The multiplication table of 11 : \n",
            "11 x 1 = 11\n",
            "11 x 2 = 22\n",
            "11 x 3 = 33\n",
            "11 x 4 = 44\n",
            "11 x 5 = 55\n",
            "11 x 6 = 66\n",
            "11 x 7 = 77\n",
            "11 x 8 = 88\n",
            "11 x 9 = 99\n",
            "11 x 10 = 110\n",
            "\n",
            "\n",
            "The multiplication table of 12 : \n",
            "12 x 1 = 12\n",
            "12 x 2 = 24\n",
            "12 x 3 = 36\n",
            "12 x 4 = 48\n",
            "12 x 5 = 60\n",
            "12 x 6 = 72\n",
            "12 x 7 = 84\n",
            "12 x 8 = 96\n",
            "12 x 9 = 108\n",
            "12 x 10 = 120\n",
            "\n",
            "\n"
          ]
        }
      ]
    },
    {
      "cell_type": "markdown",
      "source": [
        "Experiment_2_task_3"
      ],
      "metadata": {
        "id": "5Z74RHSWHfoG"
      }
    },
    {
      "cell_type": "code",
      "source": [
        "# Student Name : Poojari Medhansh\n",
        "# Roll Number : [2024UG1099]\n",
        "# Course : CS-2101/CD-2101 - Python Programming Lab\n",
        "#Experiment 2 - Task 3 : Write a program to validate a password based on the following criteria:\n",
        "# Minimum 8 characters\n",
        "# At least one uppercase letter\n",
        "# At least one lowercase letter\n",
        "# At least one number\n",
        "# At least one special character (e.g., @, #, !, etc.)\n",
        "#Use a while loop to repeatedly ask for a password until a valid one is entered. Use decision-making to give feedback to the user about which criteria were not met.\n",
        "\n",
        "\n",
        "while 1:\n",
        "    password_ = input(\"Enter your password: \")\n",
        "    valid = True\n",
        "\n",
        "    if len(password_) < 8:\n",
        "        print(\" Minimum 8 characters required.\")\n",
        "        valid = False\n",
        "    if not any(c.isupper() for c in password_):\n",
        "        print(\" At least one uppercase letter required\")\n",
        "        valid = False\n",
        "    if not any(c.islower() for c in password_):\n",
        "        print(\" At least one lowercase letter required\")\n",
        "        valid = False\n",
        "    if not any(c.isdigit() for c in password_):\n",
        "        print(\" At least one number required\")\n",
        "        valid = False\n",
        "    if not any(c in \"!@#$%^&*(),.?\\\":{}|<>\" for c in password_):\n",
        "        print(\" At least one special character required\")\n",
        "        valid = False\n",
        "\n",
        "    if valid:\n",
        "        print(\" Valid password!\")\n",
        "        break\n",
        "    else:\n",
        "        print(\"Please try again\\n\")\n"
      ],
      "metadata": {
        "colab": {
          "base_uri": "https://localhost:8080/"
        },
        "id": "aJLWfnXFKV-a",
        "outputId": "4ca2eb6c-5128-4c41-8399-b38458dbabb8"
      },
      "execution_count": null,
      "outputs": [
        {
          "output_type": "stream",
          "name": "stdout",
          "text": [
            "Enter your password: Weareok\n",
            " Minimum 8 characters required.\n",
            " At least one number required\n",
            " At least one special character required\n",
            "Please try again\n",
            "\n",
            "Enter your password: Weareven0#m\n",
            " Valid password!\n"
          ]
        }
      ]
    },
    {
      "cell_type": "markdown",
      "source": [
        "Experiment_2_task_4"
      ],
      "metadata": {
        "id": "x3Si3Q1fMJyO"
      }
    },
    {
      "cell_type": "code",
      "source": [
        "# Student Name : Poojari Medhansh\n",
        "# Roll Number : [2024UG1099]\n",
        "# Course : CS-2101/CD-2101 - Python Programming Lab\n",
        "#Experiment 2 - Task 4 : Task 4: Create a complex, nested dictionary representing IIIT Ranchi’s organizational structure.\n",
        "#(Visit:https://iiitranchi.ac.in/organizational_structure.aspx).\n",
        "#Write a Python program that accepts the name of an Assistant Professor and iterates through the dictionary to search for that professor.\n",
        "#If the name is found, print the department they belong to. If the name is not found at the current level,continue to the next level of the dictionary.\n",
        "# If the name is not found in the entire structure, display a message indicating that the Assistant Professor was not found.\n",
        "\n",
        "iiit_ranchi = {\n",
        "    \"Computer Science & Engineering\": [\"Dr.Kirti Kumari\", \"Dr. Ranajan Behera\", \"Dr. Nitika Nigam\"],\n",
        "    \"Electronics & Communication Engineering\": [\"Dr. Priyabrat Garanayak \", \"Dr. Priyank Khare\", \"Dr. Ravi Shanker\"],\n",
        "    \"Humanities & Management\": [\"Dr. Noopur\"]\n",
        "}\n",
        "\n",
        "name = input(\"Enter Assistant Professor name: \")\n",
        "\n",
        "found = False\n",
        "for dept, professors in iiit_ranchi.items():\n",
        "    if name in professors:\n",
        "        print(f\"{name} belongs to {dept}\")\n",
        "        found = True\n",
        "        break\n",
        "\n",
        "if not found:\n",
        "    print(\"Assistant Professor not found.\")\n"
      ],
      "metadata": {
        "id": "R-ExnAz7MZJj"
      },
      "execution_count": null,
      "outputs": []
    },
    {
      "cell_type": "markdown",
      "source": [
        "Experiment_2_task_5"
      ],
      "metadata": {
        "id": "cw-EFwk_N3AS"
      }
    },
    {
      "cell_type": "code",
      "source": [
        "# Student Name : Poojari Medhansh\n",
        "# Roll Number : [2024UG1099]\n",
        "# Course : CS-2101/CD-2101 - Python Programming Lab\n",
        "#Experiment 2 -Task 5: Create a list of sales data for the past 12 months (e.g., sales figures in thousands).\n",
        "# Calculate the total sales, average sales, and the month with the highest sales using loops.\n",
        "#  Use matplotlib to plot the monthly sales and highlight the month with the highest sales.\n",
        "# Example: # Sales data (in thousands)\n",
        "# sales_data = [25, 32, 29, 35, 41, 40, 45, 38, 50, 55, 60, 70]\n",
        "\n",
        "\n",
        "import matplotlib.pyplot as plt\n",
        "\n",
        "# Sales data (in thousands) for 12 months\n",
        "\n",
        "sales_data = [25, 32, 29, 35, 41, 40, 45, 38, 50, 55, 60, 70]\n",
        "\n",
        "# Months list for x-axis\n",
        "months = [\"Jan\", \"Feb\", \"Mar\", \"Apr\", \"May\", \"Jun\",\n",
        "          \"Jul\", \"Aug\", \"Sep\", \"Oct\", \"Nov\", \"Dec\"]\n",
        "\n",
        "# --- Calculations using loops ---\n",
        "total_sales = 0\n",
        "highest_sales = sales_data[0]\n",
        "highest_month_index = 0\n",
        "\n",
        "for i in range(len(sales_data)):\n",
        "    total_sales += sales_data[i]\n",
        "    if sales_data[i] > highest_sales:\n",
        "        highest_sales = sales_data[i]\n",
        "        highest_month_index = i\n",
        "\n",
        "average_sales = total_sales / len(sales_data)\n",
        "\n",
        "# --- Results ---\n",
        "print(\"Total sales (in thousands):\", total_sales)\n",
        "print(\"Average sales (in thousands):\", round(average_sales, 2))\n",
        "print(\"Highest sales:\", highest_sales, \"in\", months[highest_month_index])\n",
        "\n",
        "# --- Plotting ---\n",
        "plt.figure(figsize=(10, 6))\n",
        "plt.plot(months, sales_data, marker=\"o\", label=\"Monthly Sales\")\n",
        "\n",
        "# Highlight highest sales point\n",
        "plt.scatter(months[highest_month_index], highest_sales,\n",
        "            color=\"red\", s=100, label=\"Highest Sales\")\n",
        "\n",
        "plt.title(\"Monthly Sales Data\")\n",
        "plt.xlabel(\"Months\")\n",
        "plt.ylabel(\"Sales (in thousands)\")\n",
        "plt.legend()\n",
        "plt.grid(True)\n",
        "plt.show()\n",
        "\n"
      ],
      "metadata": {
        "colab": {
          "base_uri": "https://localhost:8080/",
          "height": 616
        },
        "id": "fuvalln9N3js",
        "outputId": "122919f1-b5d6-4d1b-9569-7f384b1bd0be"
      },
      "execution_count": 19,
      "outputs": [
        {
          "output_type": "stream",
          "name": "stdout",
          "text": [
            "Total sales (in thousands): 520\n",
            "Average sales (in thousands): 43.33\n",
            "Highest sales: 70 in Dec\n"
          ]
        },
        {
          "output_type": "display_data",
          "data": {
            "text/plain": [
              "<Figure size 1000x600 with 1 Axes>"
            ],
            "image/png": "[encoded data removed]"
          },
          "metadata": {}
        }
      ]
    }
  ]
}